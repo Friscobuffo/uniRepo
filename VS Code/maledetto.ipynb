{
 "cells": [
  {
   "cell_type": "code",
   "execution_count": 158,
   "id": "8936eadb-7c5b-4e4d-8c7d-b41c4132420d",
   "metadata": {},
   "outputs": [],
   "source": [
    "import random\n",
    "\n",
    "#returns true if element1 is less than element2, false otherwise\n",
    "def confronto(element1, element2):\n",
    "    if element2[2]!=element1[2]: return element2[2]<element1[2]\n",
    "    if element2[1]!=element1[1]: return element2[1]>element1[1]\n",
    "    return element2[0]>element1[0]\n",
    "\n",
    "def quicksort(lista, start = 0, end = None):\n",
    "    if end is None:\n",
    "        end = len(lista) - 1\n",
    "    if start<end:\n",
    "        pivot_pos = partition(lista, start, end)\n",
    "        quicksort(lista, start, pivot_pos -1)\n",
    "        quicksort(lista, pivot_pos + 1, end)\n",
    "    return lista\n",
    "\n",
    "def partition(lista, start, end):\n",
    "    #sceglie una posizione random per il pivot\n",
    "    pivot = lista[start]\n",
    "    i = start+1\n",
    "    j = end\n",
    "    #scansione della lista dall'inizio (pivot escluso) verso il centro e dalla fine verso il centro\n",
    "    while i<j:\n",
    "        while i<j and confronto(lista[i], pivot):\n",
    "            i += 1 \n",
    "        while i<j and confronto(pivot, lista[j]):\n",
    "            j -= 1\n",
    "        if i<j:\n",
    "            lista[i], lista[j] = lista[j], lista[i]\n",
    "    if confronto(pivot,lista[i]):\n",
    "        i-=1\n",
    "    lista[start], lista[i] = lista[i], lista[start]\n",
    "    return i"
   ]
  },
  {
   "cell_type": "code",
   "execution_count": 159,
   "id": "4e8e07a4-db47-4253-97fb-b82ee0abb6d7",
   "metadata": {},
   "outputs": [],
   "source": [
    "pippo = [['Richard', 'Scott', 2.45],\n",
    " ['Paula', 'Jj', 2.45],\n",
    " ['Puala', 'Duncan', 2.45],\n",
    " ['Puala', 'Duan', 2.48],\n",
    " ['Paula', 'Ibrahim', 2.45]]"
   ]
  },
  {
   "cell_type": "code",
   "execution_count": 160,
   "id": "f48e077a-7406-4830-ad50-31d31faf7b86",
   "metadata": {},
   "outputs": [
    {
     "data": {
      "text/plain": [
       "[['Puala', 'Duan', 2.48],\n",
       " ['Puala', 'Duncan', 2.45],\n",
       " ['Paula', 'Ibrahim', 2.45],\n",
       " ['Paula', 'Jj', 2.45],\n",
       " ['Richard', 'Scott', 2.45]]"
      ]
     },
     "execution_count": 160,
     "metadata": {},
     "output_type": "execute_result"
    }
   ],
   "source": [
    "quicksort(pippo)"
   ]
  },
  {
   "cell_type": "code",
   "execution_count": 161,
   "id": "bb23ee6f",
   "metadata": {},
   "outputs": [
    {
     "ename": "NameError",
     "evalue": "name 'start' is not defined",
     "output_type": "error",
     "traceback": [
      "\u001b[0;31m---------------------------------------------------------------------------\u001b[0m",
      "\u001b[0;31mNameError\u001b[0m                                 Traceback (most recent call last)",
      "Cell \u001b[0;32mIn [161], line 1\u001b[0m\n\u001b[0;32m----> 1\u001b[0m pivot_pos \u001b[39m=\u001b[39m random\u001b[39m.\u001b[39mrandint(start, end)\n\u001b[1;32m      2\u001b[0m \u001b[39m#scambia il pivot con l'elemento in testa\u001b[39;00m\n\u001b[1;32m      3\u001b[0m lista[start], lista[pivot_pos] \u001b[39m=\u001b[39m lista[pivot_pos], lista[start]\n",
      "\u001b[0;31mNameError\u001b[0m: name 'start' is not defined"
     ]
    }
   ],
   "source": [
    "\n",
    "    pivot_pos = random.randint(start, end)\n",
    "    #scambia il pivot con l'elemento in testa\n",
    "    lista[start], lista[pivot_pos] = lista[pivot_pos], lista[start]"
   ]
  }
 ],
 "metadata": {
  "kernelspec": {
   "display_name": "Python 3.10.6 64-bit",
   "language": "python",
   "name": "python3"
  },
  "language_info": {
   "codemirror_mode": {
    "name": "ipython",
    "version": 3
   },
   "file_extension": ".py",
   "mimetype": "text/x-python",
   "name": "python",
   "nbconvert_exporter": "python",
   "pygments_lexer": "ipython3",
   "version": "3.10.6"
  },
  "vscode": {
   "interpreter": {
    "hash": "916dbcbb3f70747c44a77c7bcd40155683ae19c65e1c03b4aa3499c5328201f1"
   }
  }
 },
 "nbformat": 4,
 "nbformat_minor": 5
}
