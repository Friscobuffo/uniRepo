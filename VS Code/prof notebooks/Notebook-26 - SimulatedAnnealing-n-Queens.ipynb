{
 "cells": [
  {
   "cell_type": "markdown",
   "metadata": {
    "id": "QBNmY41Vo1Fx"
   },
   "source": [
    "# Import"
   ]
  },
  {
   "cell_type": "code",
   "execution_count": 11,
   "metadata": {
    "id": "tuqE2kSyo1Fx"
   },
   "outputs": [],
   "source": [
    "import random\n",
    "import numpy as np\n",
    "import math"
   ]
  },
  {
   "cell_type": "markdown",
   "metadata": {
    "id": "GTqqqH9co1Fy"
   },
   "source": [
    "# Tweak Stato"
   ]
  },
  {
   "cell_type": "code",
   "execution_count": 12,
   "metadata": {
    "id": "tRfg4sqPo1Fy"
   },
   "outputs": [],
   "source": [
    "def tweak(sol):\n",
    "    \n",
    "    sol_copy = np.copy(sol)\n",
    "    \n",
    "    # scegli random due colonne distinte\n",
    "    x = random.randint(0,DIMENSIONE-1)\n",
    "    y = random.randint(0,DIMENSIONE-1)\n",
    "    while x==y:\n",
    "        y = random.randint(0,DIMENSIONE-1)\n",
    "        \n",
    "    # scambia le due colonne\n",
    "    temp = sol_copy[y]\n",
    "    sol_copy[y] = sol_copy[x] \n",
    "    sol_copy[x] = temp\n",
    "    \n",
    "    return sol_copy"
   ]
  },
  {
   "cell_type": "markdown",
   "metadata": {},
   "source": [
    "# Inizializzazione Stato"
   ]
  },
  {
   "cell_type": "code",
   "execution_count": 13,
   "metadata": {},
   "outputs": [],
   "source": [
    "def inizializza(sol):\n",
    "    \n",
    "    # shake shake shake\n",
    "    for c in range(0,DIMENSIONE-1):\n",
    "        sol = tweak(sol)\n",
    "    return sol"
   ]
  },
  {
   "cell_type": "markdown",
   "metadata": {
    "id": "7TsHHuhko1Fz"
   },
   "source": [
    "# Calcolo dell'energia (numero attacchi)"
   ]
  },
  {
   "cell_type": "code",
   "execution_count": 14,
   "metadata": {
    "id": "32LI3xHLo1Fz"
   },
   "outputs": [],
   "source": [
    "def energia(stato):\n",
    "    \n",
    "    # definizione della scacchiera N x N\n",
    "    board  = [[0] * DIMENSIONE for i in range(DIMENSIONE)] \n",
    "    \n",
    "    # inserimento delle regine ('Q') nelle loro posizioni sulla scacchiera\n",
    "    for i in range(0,DIMENSIONE):\n",
    "        board[stato[i]][i] ='Q'\n",
    "        \n",
    "    # spostamenti possibili sulla scacchiera\n",
    "    dx = [-1,1,-1,1]\n",
    "    dy = [-1,1,1,-1]\n",
    "    \n",
    "    # inizializzazione numero di attacchi (diretti o indiretti)\n",
    "    conflitti = 0\n",
    "\n",
    "    for i in range(0,DIMENSIONE):       \n",
    "        x = stato[i]\n",
    "        y = i\n",
    "        \n",
    "        # verifica attacchi sulle diagonali       \n",
    "        for j in range(0,4):\n",
    "            tempx = x\n",
    "            tempy = y\n",
    "            while (True):\n",
    "                tempx = tempx + dx[j]           # spostamento sull'asse x\n",
    "                tempy = tempy + dy[j]           # spostamento sull'asse y\n",
    "                if ((tempx < 0) or \n",
    "                    (tempx >= DIMENSIONE) or\n",
    "                    (tempy < 0) or \n",
    "                    (tempy >= DIMENSIONE)):\n",
    "                    break                       # si esce se lo spostamento va fuori la scacchiera\n",
    "                if (board[tempx][tempy]=='Q'):\n",
    "                    conflitti = conflitti + 1   # aggiornamento numero di attacchi\n",
    "    return conflitti"
   ]
  },
  {
   "cell_type": "markdown",
   "metadata": {
    "id": "IUl01CT9o1F0"
   },
   "source": [
    "# Stampa scacchiera"
   ]
  },
  {
   "cell_type": "code",
   "execution_count": 15,
   "metadata": {
    "id": "5XZtee13o1F0"
   },
   "outputs": [],
   "source": [
    "def stampa(sol):\n",
    "    \n",
    "    board = [[0] * DIMENSIONE for i in range(DIMENSIONE)] \n",
    "\n",
    "    for x in range(0,DIMENSIONE):\n",
    "        board[sol[x]][x] = 'Q'\n",
    "    print(\"SCACCHIERA\", '\\n')\n",
    "    for x in range(0,DIMENSIONE):\n",
    "        for y in range(0,DIMENSIONE):\n",
    "            if(board[x][y]=='Q'):\n",
    "                print(\"Q   \",end=''),\n",
    "            else:\n",
    "                print(\".   \",end=''),\n",
    "        print(\"\\n\")\n",
    "    print(\"\\n\\n\")"
   ]
  },
  {
   "cell_type": "markdown",
   "metadata": {
    "id": "sdUXmXtho1F1"
   },
   "source": [
    "# Algoritmo Simulated Annealing"
   ]
  },
  {
   "cell_type": "code",
   "execution_count": 32,
   "metadata": {
    "colab": {
     "base_uri": "https://localhost:8080/"
    },
    "id": "AST0wZkzo1F1",
    "outputId": "f3f1956c-dd2f-40c0-bf18-99a9eee30635",
    "scrolled": false
   },
   "outputs": [],
   "source": [
    "def simulated_annealing():\n",
    "    \n",
    "    # impostazione dello stato iniziale\n",
    "    current = inizializza(range(0,DIMENSIONE))\n",
    "    current_energy = energia(current)\n",
    "    print(current)\n",
    "    \n",
    "    # inizializzazione best\n",
    "    best = current\n",
    "    best_energy = current_energy\n",
    "\n",
    "    temperature = TEMPERATURA_INIZIALE\n",
    "\n",
    "    while (temperature > TEMPERATURA_FINALE and best_energy != 0):\n",
    "        for step in range(0,STEPS_PER_CHANGE):\n",
    "            useNew = False\n",
    "            next_state = tweak(current)                # scelta random dello stato successore nel neighbourhood\n",
    "            next_state_energy = energia(next_state)    # valutazione dell'energia dello stato successore\n",
    "    \n",
    "            if (next_state_energy < current_energy):   # se il successore è migliore lo accettiamo\n",
    "                useNew = True\n",
    "            else:\n",
    "                delta = next_state_energy - current_energy\n",
    "                metropolis = math.exp(-delta/temperature)  # calcolo probabilità di accettazione\n",
    "                test = random.random()\n",
    "                if (test < metropolis):                # se il numero random è minore della probabilità ...\n",
    "                    useNew = True                      # ... accettiamo il nuovo stato \n",
    "                    \n",
    "            # se abbiamo deciso di accettare il nuovo stato:   \n",
    "            if (useNew):\n",
    "                # impostalo come stato ed energia correnti\n",
    "                current = next_state\n",
    "                current_energy = next_state_energy\n",
    "            \n",
    "                # se è anche il migliore segna il record\n",
    "                if (current_energy < best_energy):\n",
    "                    best = current\n",
    "                    best_energy = current_energy\n",
    "        \n",
    "        # diminuisci la temperatura, senza mai arrivare a zero\n",
    "        temperature = temperature * ALFA\n",
    "        \n",
    "    return(best)"
   ]
  },
  {
   "cell_type": "markdown",
   "metadata": {},
   "source": [
    "## Esecuzione dell'algoritmo"
   ]
  },
  {
   "cell_type": "code",
   "execution_count": 22,
   "metadata": {},
   "outputs": [],
   "source": [
    "# Impostazione parametri\n",
    "\n",
    "TEMPERATURA_INIZIALE = 30\n",
    "TEMPERATURA_FINALE = 0.2\n",
    "ALFA = 0.99\n",
    "STEPS_PER_CHANGE = 100\n",
    "\n",
    "DIMENSIONE = 20   # dimensione dei lati della scacchiera N x N (dove N è la DIMENSIONE)"
   ]
  },
  {
   "cell_type": "code",
   "execution_count": 33,
   "metadata": {},
   "outputs": [
    {
     "name": "stdout",
     "output_type": "stream",
     "text": [
      "[17  1 19 10 16  8 15  3 11  9  7 12  6  5 14  2  0  4 18 13]\n",
      "0\n",
      "[18  1 19 11  9  3 16  7  8  5 10 15 13  4 12  6 17  0  2 14]\n",
      "0\n",
      "[16  1  2 17  8 19 15  3 11  5  7  9 12 13  4  0 18  6 14 10]\n"
     ]
    },
    {
     "ename": "KeyboardInterrupt",
     "evalue": "",
     "output_type": "error",
     "traceback": [
      "\u001b[0;31m---------------------------------------------------------------------------\u001b[0m",
      "\u001b[0;31mKeyboardInterrupt\u001b[0m                         Traceback (most recent call last)",
      "Cell \u001b[0;32mIn [33], line 2\u001b[0m\n\u001b[1;32m      1\u001b[0m \u001b[39mfor\u001b[39;00m i \u001b[39min\u001b[39;00m \u001b[39mrange\u001b[39m(\u001b[39m10\u001b[39m):\n\u001b[0;32m----> 2\u001b[0m     soluzione \u001b[39m=\u001b[39m simulated_annealing()\n\u001b[1;32m      3\u001b[0m     \u001b[39mprint\u001b[39m(energia(soluzione))\n",
      "Cell \u001b[0;32mIn [32], line 18\u001b[0m, in \u001b[0;36msimulated_annealing\u001b[0;34m()\u001b[0m\n\u001b[1;32m     16\u001b[0m useNew \u001b[39m=\u001b[39m \u001b[39mFalse\u001b[39;00m\n\u001b[1;32m     17\u001b[0m next_state \u001b[39m=\u001b[39m tweak(current)                \u001b[39m# scelta random dello stato successore nel neighbourhood\u001b[39;00m\n\u001b[0;32m---> 18\u001b[0m next_state_energy \u001b[39m=\u001b[39m energia(next_state)    \u001b[39m# valutazione dell'energia dello stato successore\u001b[39;00m\n\u001b[1;32m     20\u001b[0m \u001b[39mif\u001b[39;00m (next_state_energy \u001b[39m<\u001b[39m current_energy):   \u001b[39m# se il successore è migliore lo accettiamo\u001b[39;00m\n\u001b[1;32m     21\u001b[0m     useNew \u001b[39m=\u001b[39m \u001b[39mTrue\u001b[39;00m\n",
      "Cell \u001b[0;32mIn [14], line 28\u001b[0m, in \u001b[0;36menergia\u001b[0;34m(stato)\u001b[0m\n\u001b[1;32m     26\u001b[0m tempx \u001b[39m=\u001b[39m tempx \u001b[39m+\u001b[39m dx[j]           \u001b[39m# spostamento sull'asse x\u001b[39;00m\n\u001b[1;32m     27\u001b[0m tempy \u001b[39m=\u001b[39m tempy \u001b[39m+\u001b[39m dy[j]           \u001b[39m# spostamento sull'asse y\u001b[39;00m\n\u001b[0;32m---> 28\u001b[0m \u001b[39mif\u001b[39;00m ((tempx \u001b[39m<\u001b[39m \u001b[39m0\u001b[39m) \u001b[39mor\u001b[39;00m \n\u001b[1;32m     29\u001b[0m     (tempx \u001b[39m>\u001b[39m\u001b[39m=\u001b[39m DIMENSIONE) \u001b[39mor\u001b[39;00m\n\u001b[1;32m     30\u001b[0m     (tempy \u001b[39m<\u001b[39m \u001b[39m0\u001b[39m) \u001b[39mor\u001b[39;00m \n\u001b[1;32m     31\u001b[0m     (tempy \u001b[39m>\u001b[39m\u001b[39m=\u001b[39m DIMENSIONE)):\n\u001b[1;32m     32\u001b[0m     \u001b[39mbreak\u001b[39;00m                       \u001b[39m# si esce se lo spostamento va fuori la scacchiera\u001b[39;00m\n\u001b[1;32m     33\u001b[0m \u001b[39mif\u001b[39;00m (board[tempx][tempy]\u001b[39m==\u001b[39m\u001b[39m'\u001b[39m\u001b[39mQ\u001b[39m\u001b[39m'\u001b[39m):\n",
      "\u001b[0;31mKeyboardInterrupt\u001b[0m: "
     ]
    }
   ],
   "source": [
    "for i in range(10):\n",
    "    soluzione = simulated_annealing()\n",
    "    print(energia(soluzione))"
   ]
  },
  {
   "cell_type": "code",
   "execution_count": 30,
   "metadata": {},
   "outputs": [
    {
     "name": "stdout",
     "output_type": "stream",
     "text": [
      "0\n"
     ]
    },
    {
     "data": {
      "text/plain": [
       "array([ 3, 15, 17,  4, 13,  7, 12,  6, 19, 16, 18,  0,  9, 11,  1,  8, 10,\n",
       "        5,  2, 14])"
      ]
     },
     "execution_count": 30,
     "metadata": {},
     "output_type": "execute_result"
    }
   ],
   "source": [
    "soluzione"
   ]
  },
  {
   "cell_type": "code",
   "execution_count": 20,
   "metadata": {},
   "outputs": [
    {
     "data": {
      "text/plain": [
       "array([ 2,  8, 13, 17, 12, 14,  1,  5, 18,  9,  4, 16, 11,  0, 15,  6, 19,\n",
       "        7, 10,  3])"
      ]
     },
     "execution_count": 20,
     "metadata": {},
     "output_type": "execute_result"
    }
   ],
   "source": [
    "soluzione"
   ]
  },
  {
   "cell_type": "code",
   "execution_count": null,
   "metadata": {},
   "outputs": [],
   "source": []
  }
 ],
 "metadata": {
  "colab": {
   "name": "SimulatedAnnealing.ipynb",
   "provenance": []
  },
  "kernelspec": {
   "display_name": "Python 3.10.6 64-bit",
   "language": "python",
   "name": "python3"
  },
  "language_info": {
   "codemirror_mode": {
    "name": "ipython",
    "version": 3
   },
   "file_extension": ".py",
   "mimetype": "text/x-python",
   "name": "python",
   "nbconvert_exporter": "python",
   "pygments_lexer": "ipython3",
   "version": "3.10.6"
  },
  "vscode": {
   "interpreter": {
    "hash": "916dbcbb3f70747c44a77c7bcd40155683ae19c65e1c03b4aa3499c5328201f1"
   }
  }
 },
 "nbformat": 4,
 "nbformat_minor": 1
}
