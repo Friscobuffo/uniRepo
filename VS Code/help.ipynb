{
 "cells": [
  {
   "cell_type": "code",
   "execution_count": 6,
   "metadata": {},
   "outputs": [
    {
     "name": "stdout",
     "output_type": "stream",
     "text": [
      "[['luca', 'pappa', 12], ['mario', 'giordano', 12], ['mario', 'simona', 15], ['per', 'dindirindina', 3]]\n",
      "ordinato\n",
      "[['mario', 'simona', 15], ['luca', 'pappa', 12], ['mario', 'giordano', 12], ['per', 'dindirindina', 3]]\n"
     ]
    }
   ],
   "source": [
    "def comparator(element1, element2):\n",
    "    if element2[2]!=element1[2]: return element2[2]>element1[2]\n",
    "    if element2[1]!=element1[1]: return element2[1]>element1[1]\n",
    "    return element2[0]>element2[0]\n",
    "\n",
    "def partition(elements, start, end):\n",
    "    pivot = elements[end]\n",
    "    i = start-1\n",
    "\n",
    "    for j in range(start, end):\n",
    "        if comparator(pivot,elements[j]):\n",
    "            i = i + 1\n",
    "            (elements[i], elements[j]) = (elements[j], elements[i])\n",
    " \n",
    "    (elements[i+1], elements[end]) = (elements[end], elements[i+1])\n",
    " \n",
    "    return i+1\n",
    "\n",
    "def quickSort(elements, start = 0, end = None):\n",
    "    if end == None:\n",
    "        end = len(elements)-1\n",
    "    if start < end:\n",
    "        pi = partition(elements, start, end)\n",
    "        quickSort(elements, start, pi - 1)\n",
    "        quickSort(elements, pi + 1, end)\n",
    "\n",
    "data = [[\"luca\",\"pappa\", 12], [\"mario\", \"giordano\", 12], [\"mario\", \"simona\", 15], [\"per\", \"dindirindina\", 3]]\n",
    "print(data)\n",
    " \n",
    "quickSort(data)\n",
    " \n",
    "print(\"ordinato\")\n",
    "print(data)"
   ]
  }
 ],
 "metadata": {
  "kernelspec": {
   "display_name": "Python 3.10.6 64-bit",
   "language": "python",
   "name": "python3"
  },
  "language_info": {
   "codemirror_mode": {
    "name": "ipython",
    "version": 3
   },
   "file_extension": ".py",
   "mimetype": "text/x-python",
   "name": "python",
   "nbconvert_exporter": "python",
   "pygments_lexer": "ipython3",
   "version": "3.10.6"
  },
  "orig_nbformat": 4,
  "vscode": {
   "interpreter": {
    "hash": "916dbcbb3f70747c44a77c7bcd40155683ae19c65e1c03b4aa3499c5328201f1"
   }
  }
 },
 "nbformat": 4,
 "nbformat_minor": 2
}
