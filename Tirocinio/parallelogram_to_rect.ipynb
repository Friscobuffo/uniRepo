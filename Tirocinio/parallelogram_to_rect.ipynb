{
 "cells": [
  {
   "cell_type": "code",
   "execution_count": 3,
   "metadata": {},
   "outputs": [],
   "source": [
    "import numpy as np\n",
    "import matplotlib.pyplot as plt\n",
    "# downleft, downright, upleft, upright\n",
    "c = [(1, 2), (4, 5), (1.2, 3), (5,8)]"
   ]
  },
  {
   "cell_type": "code",
   "execution_count": 18,
   "metadata": {},
   "outputs": [],
   "source": [
    "def quad_to_rect(coordinates):\n",
    "    x0,y0 = coordinates[0]\n",
    "    x1,y1 = coordinates[1]\n",
    "    x2,y2 = coordinates[2]\n",
    "    x3,y3 = coordinates[3]\n",
    "    # perspective transformation\n",
    "    a = np.array([\n",
    "        [0, 0, 1, 0, 0, 0, 0, 0],\n",
    "        [0, 0, 0, 0, 0, 1, 0, 0],\n",
    "        [1, 0, 1, 0, 0, 0, -x1, 0],\n",
    "        [0, 0, 0, 1, 0, 1, -y1, 0],\n",
    "        [0, 1, 1, 0, 0, 0, 0, -x2],\n",
    "        [0, 0, 0, 0, 1, 1, 0, -y2],\n",
    "        [1, 1, 1, 0, 0, 0, -x3, -y3],\n",
    "        [0, 0, 0, 1, 1, 1, -x3, -x3]\n",
    "    ])\n",
    "    b = np.array([x0,y0,x1,y1,x2,y2,x3,y3])\n",
    "    x = np.linalg.solve(a, b)\n",
    "    transformation_matrix = np.array([\n",
    "        [x[0], x[1], x[2]],\n",
    "        [x[3], x[4], x[5]],\n",
    "        [x[6], x[7], 1]\n",
    "    ])\n",
    "    temp = np.array([3,4,1])\n",
    "    temp = np.matmul(transformation_matrix, temp)\n",
    "    return temp[0]/temp[2], temp[1]/temp[2]"
   ]
  },
  {
   "cell_type": "code",
   "execution_count": 19,
   "metadata": {},
   "outputs": [
    {
     "name": "stdout",
     "output_type": "stream",
     "text": [
      "(5.2, 6.2)\n"
     ]
    }
   ],
   "source": [
    "print(quad_to_rect(c))"
   ]
  }
 ],
 "metadata": {
  "kernelspec": {
   "display_name": ".venv",
   "language": "python",
   "name": "python3"
  },
  "language_info": {
   "codemirror_mode": {
    "name": "ipython",
    "version": 3
   },
   "file_extension": ".py",
   "mimetype": "text/x-python",
   "name": "python",
   "nbconvert_exporter": "python",
   "pygments_lexer": "ipython3",
   "version": "3.10.9 (main, Dec 19 2022, 17:35:49) [GCC 12.2.0]"
  },
  "orig_nbformat": 4,
  "vscode": {
   "interpreter": {
    "hash": "a62e26991ef1e0f7d67548c16aaf663093c9a0bb4db490b8380c729557d13969"
   }
  }
 },
 "nbformat": 4,
 "nbformat_minor": 2
}
