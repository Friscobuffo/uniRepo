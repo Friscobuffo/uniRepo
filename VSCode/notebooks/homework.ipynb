{
 "cells": [
  {
   "cell_type": "code",
   "execution_count": 22,
   "metadata": {},
   "outputs": [
    {
     "name": "stdout",
     "output_type": "stream",
     "text": [
      "CPU times: user 11 µs, sys: 1 µs, total: 12 µs\n",
      "Wall time: 14.5 µs\n"
     ]
    },
    {
     "data": {
      "text/plain": [
       "[1, 2, 6, 24, 120, 720, 5040, 40320, 362880, 3628800, 39916800, 479001600]"
      ]
     },
     "execution_count": 22,
     "metadata": {},
     "output_type": "execute_result"
    }
   ],
   "source": [
    "def fattoriali(n):\n",
    "    if(n<=1):\n",
    "        return [1]\n",
    "    l = fattoriali(n-1)\n",
    "    l.append(l[-1]*n)\n",
    "    return l\n",
    "\n",
    "%time fattoriali(12)"
   ]
  },
  {
   "cell_type": "code",
   "execution_count": 21,
   "metadata": {},
   "outputs": [
    {
     "name": "stdout",
     "output_type": "stream",
     "text": [
      "CPU times: user 15 µs, sys: 2 µs, total: 17 µs\n",
      "Wall time: 21.7 µs\n"
     ]
    },
    {
     "data": {
      "text/plain": [
       "[1, 2, 6, 24, 120, 720, 5040, 40320, 362880, 3628800, 39916800, 479001600]"
      ]
     },
     "execution_count": 21,
     "metadata": {},
     "output_type": "execute_result"
    }
   ],
   "source": [
    "def fattoriali2(n):\n",
    "    if(n<=1):\n",
    "        return [1]\n",
    "    l = fattoriali2(n-1)\n",
    "    return l + [l[-1]*n]\n",
    "\n",
    "%time fattoriali2(12)"
   ]
  },
  {
   "cell_type": "code",
   "execution_count": 36,
   "metadata": {},
   "outputs": [
    {
     "name": "stdout",
     "output_type": "stream",
     "text": [
      "63245986\n"
     ]
    }
   ],
   "source": [
    "#primi n numeri sequenza fibonacci\n",
    "def fibonacci(n):\n",
    "    if n<=2:\n",
    "        return [0,1]\n",
    "    list = fibonacci(n-1)\n",
    "    return list + [list[-1] + list[-2]]"
   ]
  },
  {
   "cell_type": "code",
   "execution_count": 44,
   "metadata": {},
   "outputs": [
    {
     "name": "stdout",
     "output_type": "stream",
     "text": [
      "CPU times: user 47 µs, sys: 4 µs, total: 51 µs\n",
      "Wall time: 58.9 µs\n"
     ]
    },
    {
     "data": {
      "text/plain": [
       "63245986"
      ]
     },
     "execution_count": 44,
     "metadata": {},
     "output_type": "execute_result"
    }
   ],
   "source": [
    "#fibonacci\n",
    "def fibo(n):\n",
    "    def aux(m,a,b):\n",
    "        if (m<=3):\n",
    "            return a+b\n",
    "        return aux(m-1,b,a+b)\n",
    "    return aux(n,0,1)\n",
    "\n",
    "%time fibo(40)        "
   ]
  },
  {
   "cell_type": "code",
   "execution_count": 3,
   "metadata": {},
   "outputs": [
    {
     "data": {
      "text/plain": [
       "[6, 7, 8, 9, 10, 11, 1, 2, 3, 4, 5]"
      ]
     },
     "execution_count": 3,
     "metadata": {},
     "output_type": "execute_result"
    }
   ],
   "source": [
    "#inverte due meta della lista\n",
    "def inverti_meta(lista): return lista[len(lista)//2:] + lista[:len(lista)//2]\n",
    "\n",
    "inverti_meta([1,2,3,4,5,6,7,8,9,10,11])"
   ]
  },
  {
   "cell_type": "code",
   "execution_count": 61,
   "metadata": {},
   "outputs": [
    {
     "data": {
      "text/plain": [
       "16"
      ]
     },
     "execution_count": 61,
     "metadata": {},
     "output_type": "execute_result"
    }
   ],
   "source": [
    "lista_funzioni = [lambda x: 1, lambda x: x, lambda x: x**2, lambda x: x**3]\n",
    "\n",
    "lista_funzioni[2](4)"
   ]
  },
  {
   "cell_type": "code",
   "execution_count": 62,
   "metadata": {},
   "outputs": [
    {
     "data": {
      "text/plain": [
       "[[0, 1, 0, 1, 0, 1, 0, 1],\n",
       " [1, 0, 1, 0, 1, 0, 1, 0],\n",
       " [0, 1, 0, 1, 0, 1, 0, 1],\n",
       " [1, 0, 1, 0, 1, 0, 1, 0],\n",
       " [0, 1, 0, 1, 0, 1, 0, 1],\n",
       " [1, 0, 1, 0, 1, 0, 1, 0],\n",
       " [0, 1, 0, 1, 0, 1, 0, 1],\n",
       " [1, 0, 1, 0, 1, 0, 1, 0]]"
      ]
     },
     "execution_count": 62,
     "metadata": {},
     "output_type": "execute_result"
    }
   ],
   "source": [
    "#scacchiera\n",
    "list_ext = []\n",
    "for i in range(0,8):\n",
    "    list_int = []\n",
    "    for j in range(0,8):\n",
    "        list_int += [(i+j)%2]\n",
    "    list_ext += [list_int]\n",
    "\n",
    "list_ext"
   ]
  },
  {
   "cell_type": "code",
   "execution_count": 63,
   "metadata": {},
   "outputs": [
    {
     "data": {
      "text/plain": [
       "[4, 6, 2, 0, 9, 12]"
      ]
     },
     "execution_count": 63,
     "metadata": {},
     "output_type": "execute_result"
    }
   ],
   "source": [
    "from operator import index\n",
    "\n",
    "def minToZero(lista):   lista[lista.index(min(lista))] = 0\n",
    "\n",
    "prova = [4,6,2,1,9,12]\n",
    "minToZero(prova)\n",
    "prova"
   ]
  },
  {
   "cell_type": "code",
   "execution_count": 2,
   "metadata": {},
   "outputs": [
    {
     "data": {
      "text/plain": [
       "[17, 17, 17, 17, 17, 17, 17]"
      ]
     },
     "execution_count": 2,
     "metadata": {},
     "output_type": "execute_result"
    }
   ],
   "source": [
    "#riempi\n",
    "def riempi(lista, n): return list(map((lambda x: n), lista))\n",
    "\n",
    "riempi([1,2,3,4,5,6,7], 17)"
   ]
  },
  {
   "cell_type": "code",
   "execution_count": 31,
   "metadata": {},
   "outputs": [],
   "source": [
    "#grafo\n",
    "graph = {\n",
    "    'A' : ['B','C'],\n",
    "    'B' : ['D', 'E'],\n",
    "    'C' : ['F'],\n",
    "    'D' : [],\n",
    "    'E' : ['F'],\n",
    "    'F' : []\n",
    "}"
   ]
  },
  {
   "cell_type": "code",
   "execution_count": 32,
   "metadata": {},
   "outputs": [
    {
     "data": {
      "text/plain": [
       "['A', 'B', 'C', 'D', 'E', 'F']"
      ]
     },
     "execution_count": 32,
     "metadata": {},
     "output_type": "execute_result"
    }
   ],
   "source": [
    "#visita in ampiezza\n",
    "def breadthFirst(grafo, start):\n",
    "    def aux(g, visited, pending):\n",
    "        if (not pending):\n",
    "            return []\n",
    "        nodo = pending.pop(0)\n",
    "        if (nodo in visited):\n",
    "            return aux(g, visited, pending)\n",
    "        return [nodo] + aux(g, visited+[nodo], pending+g.get(nodo))\n",
    "    return aux(grafo, [], [start])\n",
    "\n",
    "breadthFirst(graph, 'A')"
   ]
  },
  {
   "cell_type": "code",
   "execution_count": 33,
   "metadata": {},
   "outputs": [
    {
     "data": {
      "text/plain": [
       "['A', 'B', 'D', 'E', 'F', 'C']"
      ]
     },
     "execution_count": 33,
     "metadata": {},
     "output_type": "execute_result"
    }
   ],
   "source": [
    "#visita in profondita\n",
    "def depthFirst(grafo, start):\n",
    "    def aux(g, visited, pending):\n",
    "        if (not pending):\n",
    "            return []\n",
    "        nodo = pending.pop(0)\n",
    "        if (nodo in visited):\n",
    "            return aux(g, visited, pending)\n",
    "        return [nodo] + aux(g, visited+[nodo], g.get(nodo)+pending)\n",
    "    return aux(grafo, [], [start])\n",
    "\n",
    "depthFirst(graph, 'A')"
   ]
  }
 ],
 "metadata": {
  "kernelspec": {
   "display_name": "Python 3.10.6 64-bit",
   "language": "python",
   "name": "python3"
  },
  "language_info": {
   "codemirror_mode": {
    "name": "ipython",
    "version": 3
   },
   "file_extension": ".py",
   "mimetype": "text/x-python",
   "name": "python",
   "nbconvert_exporter": "python",
   "pygments_lexer": "ipython3",
   "version": "3.10.6"
  },
  "orig_nbformat": 4,
  "vscode": {
   "interpreter": {
    "hash": "916dbcbb3f70747c44a77c7bcd40155683ae19c65e1c03b4aa3499c5328201f1"
   }
  }
 },
 "nbformat": 4,
 "nbformat_minor": 2
}
