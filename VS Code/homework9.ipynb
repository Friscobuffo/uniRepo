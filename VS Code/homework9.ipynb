{
 "cells": [
  {
   "cell_type": "code",
   "execution_count": 31,
   "metadata": {},
   "outputs": [
    {
     "name": "stdout",
     "output_type": "stream",
     "text": [
      "always keep:  0.09845\n",
      "always change:  0.90155\n"
     ]
    }
   ],
   "source": [
    "import random\n",
    "iterazioni = 100000\n",
    "winChangeStrategy = 0\n",
    "winKeepStrategy = 0\n",
    "doorsNumber = 10\n",
    "for _ in range(iterazioni):\n",
    "    doors = list(range(doorsNumber))\n",
    "    winningDoor = random.choice(doors)\n",
    "    chosenDoor = random.choice(doors)\n",
    "    if (winningDoor == chosenDoor):\n",
    "        winKeepStrategy+=1\n",
    "    \n",
    "    removedDoors = []\n",
    "    for door in doors:\n",
    "        if(door!=winningDoor and door!=chosenDoor):\n",
    "            removedDoors.append(door)\n",
    "    \n",
    "    doors.remove(chosenDoor)\n",
    "    while (len(doors) > 1):\n",
    "        doors.remove(removedDoors.pop())\n",
    "    \n",
    "    newDoor = doors.pop()\n",
    "    if (newDoor == winningDoor):\n",
    "        winChangeStrategy+=1\n",
    "print(\"always keep: \", winKeepStrategy/iterazioni)\n",
    "print(\"always change: \", winChangeStrategy/iterazioni)"
   ]
  }
 ],
 "metadata": {
  "kernelspec": {
   "display_name": "Python 3.10.6 64-bit",
   "language": "python",
   "name": "python3"
  },
  "language_info": {
   "codemirror_mode": {
    "name": "ipython",
    "version": 3
   },
   "file_extension": ".py",
   "mimetype": "text/x-python",
   "name": "python",
   "nbconvert_exporter": "python",
   "pygments_lexer": "ipython3",
   "version": "3.10.6"
  },
  "orig_nbformat": 4,
  "vscode": {
   "interpreter": {
    "hash": "916dbcbb3f70747c44a77c7bcd40155683ae19c65e1c03b4aa3499c5328201f1"
   }
  }
 },
 "nbformat": 4,
 "nbformat_minor": 2
}
