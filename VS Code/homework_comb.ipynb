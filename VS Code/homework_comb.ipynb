{
 "cells": [
  {
   "cell_type": "code",
   "execution_count": 13,
   "metadata": {},
   "outputs": [
    {
     "name": "stdout",
     "output_type": "stream",
     "text": [
      "CPU times: user 5 µs, sys: 1 µs, total: 6 µs\n",
      "Wall time: 6.91 µs\n"
     ]
    },
    {
     "data": {
      "text/plain": [
       "3432"
      ]
     },
     "execution_count": 13,
     "metadata": {},
     "output_type": "execute_result"
    }
   ],
   "source": [
    "#funzione ricorsiva che calcola il numero delle combinazioni di classe k di n oggetti\n",
    "def combinazioni(n, k):\n",
    "    if n<k: return 0\n",
    "    if k<1: return 1\n",
    "    return n*combinazioni(n-1,k-1)//k\n",
    "\n",
    "%time combinazioni(14,7)"
   ]
  },
  {
   "cell_type": "code",
   "execution_count": 4,
   "metadata": {},
   "outputs": [
    {
     "data": {
      "text/plain": [
       "125"
      ]
     },
     "execution_count": 4,
     "metadata": {},
     "output_type": "execute_result"
    }
   ],
   "source": [
    "#funzione ricorsiva che calcola il numero delle disposizioni con ripetizione di classe k di n oggetti\n",
    "def disposizioni_rip(n, k):\n",
    "    if k<=0: return 1\n",
    "    return n*disposizioni_rip(n, k-1)\n",
    "\n",
    "disposizioni_rip(5,3)"
   ]
  },
  {
   "cell_type": "code",
   "execution_count": 7,
   "metadata": {},
   "outputs": [
    {
     "data": {
      "text/plain": [
       "720"
      ]
     },
     "execution_count": 7,
     "metadata": {},
     "output_type": "execute_result"
    }
   ],
   "source": [
    "#funzione ricorsiva che calcola il numero delle permutazioni di n oggetti\n",
    "def permutazioni(n):\n",
    "    if n<2: return 1\n",
    "    return n*permutazioni(n-1)\n",
    "\n",
    "permutazioni(6)"
   ]
  }
 ],
 "metadata": {
  "kernelspec": {
   "display_name": "Python 3.10.6 64-bit",
   "language": "python",
   "name": "python3"
  },
  "language_info": {
   "codemirror_mode": {
    "name": "ipython",
    "version": 3
   },
   "file_extension": ".py",
   "mimetype": "text/x-python",
   "name": "python",
   "nbconvert_exporter": "python",
   "pygments_lexer": "ipython3",
   "version": "3.10.6"
  },
  "orig_nbformat": 4,
  "vscode": {
   "interpreter": {
    "hash": "916dbcbb3f70747c44a77c7bcd40155683ae19c65e1c03b4aa3499c5328201f1"
   }
  }
 },
 "nbformat": 4,
 "nbformat_minor": 2
}
