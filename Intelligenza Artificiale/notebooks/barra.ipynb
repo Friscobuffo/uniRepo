{
 "cells": [
  {
   "cell_type": "code",
   "execution_count": 2,
   "metadata": {},
   "outputs": [],
   "source": [
    "from time import time as ltime0316\n",
    "\n",
    "class ProgressBar():\n",
    "    __fill = '█'\n",
    "\n",
    "    def __init__(self, iterations):\n",
    "        self.__iterations = iterations\n",
    "        self.__counter = 0\n",
    "        self.__start = ltime0316()\n",
    "        self.__bar_length = 39\n",
    "    \n",
    "    def __fill_fun(self, val):\n",
    "        if val==0.0: return '█'\n",
    "        if val<0.125: return '▏'\n",
    "        if val<0.25: return '▎'\n",
    "        if val<0.375: return '▍'\n",
    "        if val<0.5: return '▌'\n",
    "        if val<0.625: return '▋'\n",
    "        if val<0.75: return '▊'\n",
    "        if val<0.875: return '▉'\n",
    "        return '█'\n",
    "\n",
    "    def __update(self):\n",
    "        totTime = ltime0316() - self.__start\n",
    "        freq = self.__freq(self.__counter / totTime)\n",
    "        eta = self.__eta(freq)\n",
    "        if type(freq) == int:\n",
    "            frequency = str(freq)\n",
    "        else:\n",
    "            frequency = \"{:.2f}\".format(freq)\n",
    "        percent = 100*(self.__counter / float(self.__iterations))\n",
    "        spercent = \"{:.2f}\".format(percent)\n",
    "        filledLength = self.__bar_length * self.__counter // self.__iterations\n",
    "        factor = (self.__bar_length * self.__counter / self.__iterations) - (self.__bar_length * self.__counter // self.__iterations)\n",
    "        bar = '|' + (self.__fill * (filledLength)) + self.__fill_fun(factor) + ' ' * (self.__bar_length - filledLength) + '|'\n",
    "        print(f'\\r{bar} [{spercent}]% (eta: {eta}s, frequency: {frequency} per second)'+7*\" \", end = '', flush = True)\n",
    "\n",
    "    def next(self):\n",
    "        self.__counter += 1\n",
    "        if self.__counter == self.__iterations:\n",
    "            self.__finished()\n",
    "        else:\n",
    "            self.__update()\n",
    "\n",
    "    def __finished(self):\n",
    "        bar = '|' + (self.__fill * (self.__bar_length+1)) + '|'\n",
    "        totTime = ltime0316() - self.__start\n",
    "        if totTime >= 60:\n",
    "            mins = int(totTime/60)\n",
    "            secs = int(totTime%60)\n",
    "            totalTime = str(mins) +\" mins \" + str(secs) + \" seconds\"\n",
    "        else:\n",
    "            totalTime = \"{:.2f}\".format(totTime) + \" seconds\"\n",
    "        print(f'\\r{bar} [100.00]% (total time: {totalTime})'+(20)*\" \")\n",
    "    \n",
    "    def __freq(self, freq):\n",
    "        if freq > 10: return int(freq)\n",
    "        return round(freq, 2)\n",
    "\n",
    "    def __eta(self, freq):\n",
    "        eta = int((self.__iterations-self.__counter) / freq)\n",
    "        mins = \"\"\n",
    "        if eta > 60:\n",
    "            mins = int(eta/60)\n",
    "            mins = str(mins) + \"mins \"\n",
    "            eta = eta%60\n",
    "        return mins + str(eta)\n",
    "    \n",
    "    def reset(self, iterations):\n",
    "        self.__iterations = iterations\n",
    "        self.__counter = 0\n",
    "        self.__start = ltime0316()"
   ]
  },
  {
   "cell_type": "code",
   "execution_count": 3,
   "metadata": {},
   "outputs": [
    {
     "name": "stdout",
     "output_type": "stream",
     "text": [
      "|████████████████████████████████████████| [100.00]% (total time: 20.03 seconds)                    \n"
     ]
    }
   ],
   "source": [
    "from time import sleep\n",
    "tot = 10\n",
    "barra = ProgressBar(tot)\n",
    "for _ in range(tot):\n",
    "    sleep(2)\n",
    "    barra.next()"
   ]
  }
 ],
 "metadata": {
  "kernelspec": {
   "display_name": ".venv",
   "language": "python",
   "name": "python3"
  },
  "language_info": {
   "codemirror_mode": {
    "name": "ipython",
    "version": 3
   },
   "file_extension": ".py",
   "mimetype": "text/x-python",
   "name": "python",
   "nbconvert_exporter": "python",
   "pygments_lexer": "ipython3",
   "version": "3.9.16"
  },
  "orig_nbformat": 4,
  "vscode": {
   "interpreter": {
    "hash": "a62e26991ef1e0f7d67548c16aaf663093c9a0bb4db490b8380c729557d13969"
   }
  }
 },
 "nbformat": 4,
 "nbformat_minor": 2
}
