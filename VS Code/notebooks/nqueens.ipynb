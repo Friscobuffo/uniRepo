{
 "cells": [
  {
   "cell_type": "code",
   "execution_count": 1,
   "metadata": {},
   "outputs": [],
   "source": [
    "import random\n",
    "import time\n",
    "import math\n",
    "from progress0316.bar import ProgressBar"
   ]
  },
  {
   "cell_type": "markdown",
   "metadata": {},
   "source": [
    "<h2>Util functions"
   ]
  },
  {
   "cell_type": "code",
   "execution_count": 2,
   "metadata": {},
   "outputs": [],
   "source": [
    "#prende unna posizione e fa un cambio random su quella posizione\n",
    "def tweak(positions):\n",
    "    l = len(positions)\n",
    "    x = random.randint(0,l-1)\n",
    "    y = random.randint(0,l-1)\n",
    "    while(x==y):\n",
    "        y = random.randint(0,l-1)\n",
    "    positions[x],positions[y] = positions[y],positions[x]\n",
    "\n",
    "#prende una posizione e riporta la posizione con un tweak random\n",
    "def makeTweak(positions):\n",
    "    tweaked = positions.copy()\n",
    "    tweak(tweaked)\n",
    "    return tweaked\n",
    "\n",
    "#fa un po di shuffle random della posizione\n",
    "def randomStart(dim):\n",
    "    positions = list(range(dim))\n",
    "    for _ in range(100):\n",
    "        tweak(positions)\n",
    "    return positions\n",
    "\n",
    "#verifica se la posizione è sulla scacchiera\n",
    "def isInBoard(position, dim):\n",
    "    x,y = position\n",
    "    return (0<=x<dim and 0<=y<dim)\n",
    "\n",
    "#conta il numero di hits delle regine sulla scacchiera\n",
    "#(possono stare solo sulle diagonali)\n",
    "def hits(positions):\n",
    "    _hits = 0\n",
    "    dim = len(positions)\n",
    "    for i in range(dim):\n",
    "        #si sposta sulla diagonale in alto a destra\n",
    "        (x,y) = (i+1, positions[i]+1)\n",
    "        while isInBoard((x,y), dim):\n",
    "            if positions[x] == y:\n",
    "                _hits+=1\n",
    "            x+=1\n",
    "            y+=1\n",
    "        #si sposta sulla diagonale in basso a destra\n",
    "        (x,y) = (i+1, positions[i]-1)\n",
    "        while isInBoard((x,y), dim):\n",
    "            if positions[x] == y:\n",
    "                _hits+=1\n",
    "            x+=1\n",
    "            y-=1\n",
    "        #si sposta sulla diagonale in alto a sinistra\n",
    "        (x,y) = (i-1, positions[i]+1)\n",
    "        while isInBoard((x,y), dim):\n",
    "            if positions[x] == y:\n",
    "                _hits+=1\n",
    "            x-=1\n",
    "            y+=1\n",
    "        (x,y) = (i-1, positions[i]-1)\n",
    "        #si sposta sulla diagonale in basso a sinistra\n",
    "        while isInBoard((x,y), len(positions)):\n",
    "            if positions[x] == y:\n",
    "                _hits+=1\n",
    "            x-=1\n",
    "            y-=1\n",
    "    return _hits\n",
    "\n",
    "#stampa la scacchiera con le regine\n",
    "def printBoard(positions):\n",
    "    for i in range(len(positions)):\n",
    "        temp = \"\"\n",
    "        for j in range(len(positions)):\n",
    "            if positions[j]==i:\n",
    "                temp+=\" 0 \"\n",
    "            else:\n",
    "                temp+=\" + \"\n",
    "        print(temp)"
   ]
  },
  {
   "cell_type": "markdown",
   "metadata": {},
   "source": [
    "<h2>Standard hill climbing (deepest ascent)"
   ]
  },
  {
   "cell_type": "code",
   "execution_count": 3,
   "metadata": {},
   "outputs": [
    {
     "name": "stdout",
     "output_type": "stream",
     "text": [
      "solution: [2, 7, 6, 3, 0, 4, 1, 5]\n",
      "hits: 2\n"
     ]
    }
   ],
   "source": [
    "def lowestNextHits(currentBest, currentHits):\n",
    "    l = len(currentBest)\n",
    "    for i in range(0, l-1):\n",
    "        for j in range(i+i, l):\n",
    "            temp = currentBest.copy()\n",
    "            temp[i], temp[j] = temp[j], temp[i]\n",
    "            _hits = hits(temp)\n",
    "            if _hits<currentHits:\n",
    "                currentBest = temp\n",
    "                currentHits = _hits\n",
    "    return currentBest, currentHits\n",
    "\n",
    "def hillClimbing(dim):\n",
    "    currentState = randomStart(dim)\n",
    "    currentHits = hits(currentState)\n",
    "    keepExploring = True\n",
    "    while keepExploring:\n",
    "        nextState, nextHits = lowestNextHits(currentState, currentHits)\n",
    "        if nextHits >= currentHits:\n",
    "            keepExploring = False\n",
    "        currentState = nextState\n",
    "        currentHits = nextHits\n",
    "    return currentState\n",
    "\n",
    "positions = hillClimbing(8)\n",
    "print(\"solution:\", positions)\n",
    "print(\"hits:\", hits(positions))"
   ]
  },
  {
   "cell_type": "markdown",
   "metadata": {},
   "source": [
    "<h2>Random restart Hill climbing"
   ]
  },
  {
   "cell_type": "code",
   "execution_count": 4,
   "metadata": {},
   "outputs": [
    {
     "name": "stdout",
     "output_type": "stream",
     "text": [
      "solution: [5, 0, 4, 1, 7, 2, 6, 3]\n",
      "hits: 0\n"
     ]
    }
   ],
   "source": [
    "def randomRestart(dim):\n",
    "    while True:\n",
    "        currentState = hillClimbing(dim)\n",
    "        currentHits = hits(currentState)\n",
    "        if currentHits==0:\n",
    "            return currentState\n",
    "\n",
    "positions = randomRestart(8)\n",
    "print(\"solution:\", positions)\n",
    "print(\"hits:\", hits(positions))"
   ]
  },
  {
   "cell_type": "markdown",
   "metadata": {},
   "source": [
    "<h2>Stochastic hill climbing"
   ]
  },
  {
   "cell_type": "code",
   "execution_count": 5,
   "metadata": {},
   "outputs": [
    {
     "name": "stdout",
     "output_type": "stream",
     "text": [
      "solution: [2, 5, 7, 0, 3, 6, 4, 1]\n",
      "hits: 0\n"
     ]
    }
   ],
   "source": [
    "def stochasticHill(dim, t):\n",
    "    currentState = randomStart(dim)\n",
    "    currentHits = hits(currentState)\n",
    "\n",
    "    bestState = currentState.copy()\n",
    "    bestHits = currentHits\n",
    "    while bestHits>0:\n",
    "        nextState = makeTweak(currentState)\n",
    "        nextHits = hits(nextState)\n",
    "\n",
    "        if nextHits < bestHits:\n",
    "            bestState = nextState\n",
    "            bestHits = nextHits\n",
    "        dE = nextHits - currentHits\n",
    "        p = 1/(1+math.exp(dE/t))\n",
    "\n",
    "        if (random.random() < p):\n",
    "            currentState = nextState\n",
    "            currentHits = nextHits\n",
    "    return bestState\n",
    "\n",
    "positions = stochasticHill(8, 20)\n",
    "print(\"solution:\", positions)\n",
    "print(\"hits:\", hits(positions))"
   ]
  },
  {
   "cell_type": "markdown",
   "metadata": {},
   "source": [
    "<h2>Simulated annealing"
   ]
  },
  {
   "cell_type": "code",
   "execution_count": 6,
   "metadata": {},
   "outputs": [
    {
     "name": "stdout",
     "output_type": "stream",
     "text": [
      "solution: [5, 2, 6, 1, 7, 4, 0, 3]\n",
      "hits: 0\n"
     ]
    }
   ],
   "source": [
    "def simulatedAnnealing(dim, iterations, startingT, endingT, alfa):\n",
    "    currentState = randomStart(dim)\n",
    "    currentHits = hits(currentState)\n",
    "\n",
    "    bestState = currentState.copy()\n",
    "    bestHits = currentHits\n",
    "    t = startingT\n",
    "    while(t>endingT and bestHits>0):\n",
    "        i = 0\n",
    "        while(i<iterations and bestHits>0):\n",
    "            i+=1\n",
    "            nextState = makeTweak(currentState)\n",
    "            nextHits = hits(nextState)\n",
    "            if (nextHits<currentHits):\n",
    "                currentState = nextState\n",
    "                currentHits = nextHits\n",
    "                if (currentHits < bestHits):\n",
    "                    bestState = currentState\n",
    "                    bestHits = currentHits\n",
    "            else:\n",
    "                dE = nextHits - currentHits\n",
    "                p = math.exp(-dE/t)\n",
    "                if (random.random() <= p):\n",
    "                    currentState = nextState\n",
    "                    currentHits = nextHits\n",
    "        t *= alfa\n",
    "    return bestState\n",
    "\n",
    "positions = simulatedAnnealing(8, 100, 30, 0.2, 0.99)\n",
    "print(\"solution:\", positions)\n",
    "print(\"hits:\", hits(positions))"
   ]
  },
  {
   "cell_type": "markdown",
   "metadata": {},
   "source": [
    "<h2>Tabu search base"
   ]
  },
  {
   "cell_type": "code",
   "execution_count": 7,
   "metadata": {},
   "outputs": [
    {
     "name": "stdout",
     "output_type": "stream",
     "text": [
      "solution: [3 5 0 4 1 7 2 6]\n",
      "hits: 0\n"
     ]
    }
   ],
   "source": [
    "import numpy as np\n",
    "\n",
    "def tabuTenureStart(dim):\n",
    "    tabuTenure = dict()\n",
    "    for i in range(dim-1):\n",
    "        for j in range(i+1, dim):\n",
    "            tabuTenure[(i,j)] = 0    \n",
    "    return tabuTenure\n",
    "\n",
    "#true if la mossa è legittima\n",
    "def tabuCheck(tabuTenure, move):\n",
    "    return tabuTenure[move]==0\n",
    "\n",
    "def tabuDecrement(tabuTenure):\n",
    "    for key in tabuTenure.keys():\n",
    "        if tabuTenure[key] != 0:\n",
    "            tabuTenure[key]-=1\n",
    "\n",
    "def applyMove(state, move):\n",
    "    state = state.copy()\n",
    "    state[move[0]], state[move[1]] = state[move[1]], state[move[0]]\n",
    "    return state\n",
    "\n",
    "def tabuSearch(dimension, tabuBan = 5):\n",
    "    currentState = np.array(randomStart(dimension))\n",
    "    currentHits = hits(currentState)\n",
    "\n",
    "    bestState = currentState.copy()\n",
    "    bestHits = currentHits\n",
    "\n",
    "    tabuTenure = tabuTenureStart(dimension)\n",
    "    while (bestHits > 0):\n",
    "        allMoves = list(filter(lambda move: tabuCheck(tabuTenure,move), list(tabuTenure.keys()))) #tolgo tutte le mosse tabu\n",
    "        bestMove = allMoves.pop()\n",
    "        bestNext = applyMove(currentState, bestMove)\n",
    "        bestNextHits = hits(bestNext)\n",
    "        for move in allMoves:\n",
    "            temp = applyMove(currentState, move)\n",
    "            tempHits = hits(temp)\n",
    "            if tempHits<bestNextHits:\n",
    "                bestMove = move\n",
    "                bestNext = temp\n",
    "                bestNextHits = tempHits\n",
    "        currentState = bestNext\n",
    "        currentHits = bestNextHits\n",
    "        tabuDecrement(tabuTenure)\n",
    "        tabuTenure[bestMove] = tabuBan\n",
    "        if (currentHits<bestHits):\n",
    "            bestState = currentState\n",
    "            bestHits = currentHits\n",
    "    return bestState\n",
    "\n",
    "positions = tabuSearch(8)\n",
    "print(\"solution:\", positions)\n",
    "print(\"hits:\", hits(positions))"
   ]
  },
  {
   "cell_type": "markdown",
   "metadata": {},
   "source": [
    "<h2>Tabu search con aspiration criterion"
   ]
  },
  {
   "cell_type": "code",
   "execution_count": 8,
   "metadata": {},
   "outputs": [
    {
     "name": "stdout",
     "output_type": "stream",
     "text": [
      "solution: [4 0 7 3 1 6 2 5]\n",
      "hits: 0\n"
     ]
    }
   ],
   "source": [
    "def tabuSearchAC(dimension, tabuBan = 5):\n",
    "    currentState = np.array(randomStart(dimension))\n",
    "    currentHits = hits(currentState)\n",
    "\n",
    "    bestState = currentState.copy()\n",
    "    bestHits = currentHits\n",
    "\n",
    "    tabuTenure = tabuTenureStart(dimension)\n",
    "    allMoves = list(tabuTenure.keys())\n",
    "    while (bestHits > 0):\n",
    "        bestMove = None\n",
    "        bestNext = None\n",
    "        bestNextHits = None\n",
    "        for move in allMoves:\n",
    "            tempState = applyMove(currentState, move)\n",
    "            tempHits = hits(tempState)\n",
    "            if tabuCheck(tabuTenure, move):\n",
    "                if bestNext is None:\n",
    "                    bestMove = move\n",
    "                    bestNext = applyMove(currentState, move)\n",
    "                    bestNextHits = hits(bestNext)\n",
    "                else:\n",
    "                    if tempHits<bestNextHits:\n",
    "                        bestMove = move\n",
    "                        bestNext = tempState\n",
    "                        bestNextHits = tempHits\n",
    "            else:\n",
    "                if tempHits < bestHits:\n",
    "                    bestMove = move\n",
    "                    bestNext = tempState\n",
    "                    bestNextHits = tempHits\n",
    "                \n",
    "        currentState = bestNext\n",
    "        currentHits = bestNextHits\n",
    "        tabuDecrement(tabuTenure)\n",
    "        tabuTenure[bestMove] = tabuBan\n",
    "        if (currentHits<bestHits):\n",
    "            bestState = currentState\n",
    "            bestHits = currentHits\n",
    "    return bestState\n",
    "\n",
    "positions = tabuSearchAC(8)\n",
    "print(\"solution:\", positions)\n",
    "print(\"hits:\", hits(positions))"
   ]
  },
  {
   "cell_type": "markdown",
   "metadata": {},
   "source": [
    "<h2>Tabu search con frequency based memory"
   ]
  },
  {
   "cell_type": "code",
   "execution_count": 9,
   "metadata": {},
   "outputs": [
    {
     "name": "stdout",
     "output_type": "stream",
     "text": [
      "solution: [3 1 6 2 5 7 0 4]\n",
      "hits: 0\n"
     ]
    }
   ],
   "source": [
    "def updateFBM(fbm, lastMoves, move):\n",
    "    if len(lastMoves) == 50:\n",
    "        lastMove = lastMoves.pop(0)\n",
    "        fbm[lastMove] -= 1\n",
    "    lastMoves.append(move)\n",
    "    fbm[move] += 1\n",
    "\n",
    "def penalty(fbm, move):\n",
    "    return 0.5*(fbm[move])\n",
    "\n",
    "def startFBM(dim):\n",
    "    return tabuTenureStart(dim)\n",
    "\n",
    "def tabuSearchFBM(dimension, tabuBan = 5):\n",
    "    currentState = np.array(randomStart(dimension))\n",
    "    currentHits = hits(currentState)\n",
    "\n",
    "    bestState = currentState.copy()\n",
    "    bestHits = currentHits\n",
    "\n",
    "    tabuTenure = tabuTenureStart(dimension)\n",
    "    fbm = startFBM(dimension)\n",
    "    lastMoves = []\n",
    "    while (bestHits > 0):\n",
    "        allMoves = list(filter(lambda move: tabuCheck(tabuTenure,move), list(tabuTenure.keys()))) #tolgo tutte le mosse tabu\n",
    "        bestMove = allMoves.pop()\n",
    "        bestNext = applyMove(currentState, bestMove)\n",
    "        bestNextHits = hits(bestNext) - penalty(fbm, bestMove)\n",
    "        for move in allMoves:\n",
    "            temp = applyMove(currentState, move)\n",
    "            tempHits = hits(temp) - penalty(fbm, move)\n",
    "            if tempHits<bestNextHits:\n",
    "                bestMove = move\n",
    "                bestNext = temp\n",
    "                bestNextHits = tempHits\n",
    "        \n",
    "        currentState = bestNext\n",
    "        currentHits = bestNextHits\n",
    "        tabuDecrement(tabuTenure)\n",
    "        tabuTenure[bestMove] = tabuBan\n",
    "        updateFBM(fbm, lastMoves, bestMove)\n",
    "        if (currentHits<bestHits):\n",
    "            bestState = currentState\n",
    "            bestHits = currentHits\n",
    "    return bestState\n",
    "\n",
    "positions = tabuSearchFBM(8)\n",
    "print(\"solution:\", positions)\n",
    "print(\"hits:\", hits(positions))"
   ]
  },
  {
   "cell_type": "markdown",
   "metadata": {},
   "source": [
    "<h2>Efficienze algoritmi a paragone"
   ]
  },
  {
   "cell_type": "code",
   "execution_count": 10,
   "metadata": {},
   "outputs": [
    {
     "name": "stdout",
     "output_type": "stream",
     "text": [
      "random restart hill climb\n",
      "|████████████████████████████████████████| [100.00]% (total time: 2 seconds)                    \n",
      "time per climb: 0.02842 seconds\n",
      "\n",
      "tabu search\n",
      "|████████████████████████████████████████| [100.00]% (total time: 2 seconds)                    \n",
      "time per climb: 0.02762 seconds\n",
      "\n",
      "tabu search aspiration criterion\n",
      "|████████████████████████████████████████| [100.00]% (total time: 2 seconds)                    \n",
      "time per climb: 0.02662 seconds\n",
      "\n",
      "tabu search frequency based memory\n",
      "|████████████████████████████████████████| [100.00]% (total time: 2 seconds)                    \n",
      "time per climb: 0.0218 seconds\n"
     ]
    }
   ],
   "source": [
    "iterationsPerAlgorithm = 100\n",
    "dim = 10\n",
    "\n",
    "#random restart hill climb\n",
    "i=0\n",
    "print(\"random restart hill climb\")\n",
    "start = time.time()\n",
    "bar = ProgressBar(iterationsPerAlgorithm)\n",
    "while i<iterationsPerAlgorithm:\n",
    "    bar.next()\n",
    "    result = randomRestart(dim)\n",
    "    i+=1\n",
    "end = time.time()\n",
    "print(\"time per climb:\",round((end-start)/iterationsPerAlgorithm, 5), \"seconds\")\n",
    "print()\n",
    "\n",
    "#stochastic hill climb\n",
    "#fa mezzo schifo\n",
    "\n",
    "#simulated annealing\n",
    "\n",
    "\n",
    "#tabu search\n",
    "i=0\n",
    "print(\"tabu search\")\n",
    "bar.reset(iterationsPerAlgorithm)\n",
    "start = time.time()\n",
    "while(i<iterationsPerAlgorithm):\n",
    "    bar.next()\n",
    "    result = tabuSearch(dim)\n",
    "    i+=1\n",
    "end = time.time()\n",
    "print(\"time per climb:\",round((end-start)/iterationsPerAlgorithm, 5), \"seconds\")\n",
    "print()\n",
    "\n",
    "#tabu search aspiration criterion\n",
    "i=0\n",
    "print(\"tabu search aspiration criterion\")\n",
    "bar.reset(iterationsPerAlgorithm)\n",
    "start = time.time()\n",
    "while(i<iterationsPerAlgorithm):\n",
    "    bar.next()\n",
    "    result = tabuSearchAC(dim)\n",
    "    i+=1\n",
    "end = time.time()\n",
    "print(\"time per climb:\",round((end-start)/iterationsPerAlgorithm, 5), \"seconds\")\n",
    "print()\n",
    "\n",
    "#tabu search frequency based memory\n",
    "i=0\n",
    "print(\"tabu search frequency based memory\")\n",
    "bar.reset(iterationsPerAlgorithm)\n",
    "start = time.time()\n",
    "while(i<iterationsPerAlgorithm):\n",
    "    bar.next()\n",
    "    result = tabuSearchFBM(dim)\n",
    "    i+=1\n",
    "end = time.time()\n",
    "print(\"time per climb:\",round((end-start)/iterationsPerAlgorithm, 5), \"seconds\")"
   ]
  },
  {
   "cell_type": "code",
   "execution_count": 11,
   "metadata": {},
   "outputs": [],
   "source": [
    "solutions = []"
   ]
  },
  {
   "cell_type": "code",
   "execution_count": 12,
   "metadata": {},
   "outputs": [
    {
     "name": "stdout",
     "output_type": "stream",
     "text": [
      "65\n"
     ]
    }
   ],
   "source": [
    "iTot = 100\n",
    "i=0\n",
    "def isEqual(s1,s2):\n",
    "    if len(s1) != len(s2):\n",
    "        return False\n",
    "    for a,b in zip(s1,s2):\n",
    "        if a!=b: return False\n",
    "    return True\n",
    "\n",
    "while(i<iTot):\n",
    "    result = list(tabuSearch(8))\n",
    "    present = False\n",
    "    for s in solutions:\n",
    "        if isEqual(s,result):\n",
    "            present = True\n",
    "            break\n",
    "    if not present:\n",
    "        solutions.append(result)\n",
    "    i+=1\n",
    "print(len(solutions))"
   ]
  }
 ],
 "metadata": {
  "kernelspec": {
   "display_name": "Python 3.10.6 64-bit",
   "language": "python",
   "name": "python3"
  },
  "language_info": {
   "codemirror_mode": {
    "name": "ipython",
    "version": 3
   },
   "file_extension": ".py",
   "mimetype": "text/x-python",
   "name": "python",
   "nbconvert_exporter": "python",
   "pygments_lexer": "ipython3",
   "version": "3.10.6"
  },
  "orig_nbformat": 4,
  "vscode": {
   "interpreter": {
    "hash": "916dbcbb3f70747c44a77c7bcd40155683ae19c65e1c03b4aa3499c5328201f1"
   }
  }
 },
 "nbformat": 4,
 "nbformat_minor": 2
}
