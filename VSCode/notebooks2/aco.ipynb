{
 "cells": [
  {
   "cell_type": "code",
   "execution_count": 46,
   "metadata": {},
   "outputs": [],
   "source": [
    "import numpy as np\n",
    "class AntColonyOptimizationTSP():\n",
    "    def __init__(self, distances, n_ants, n_bests, n_iterations, decay, start=0, alpha=1, beta=1):\n",
    "        self.distances = distances\n",
    "        self.indexes = range(len(distances))\n",
    "        self.n_ants = n_ants\n",
    "        self.n_bests = n_bests\n",
    "        self.n_iterations = n_iterations\n",
    "        self.start = start\n",
    "        self.decay = decay\n",
    "        self.alpha = alpha\n",
    "        self.beta = beta\n",
    "        self.pheromone = np.ones(self.distances.shape) / len(distances)\n",
    "\n",
    "    def move(self, prev, visited):\n",
    "        pheromone = np.copy(self.pheromone[prev])\n",
    "        pheromone[list(visited)] = 0\n",
    "        distances = 1.0 / self.distances[prev]\n",
    "        probabilities = pheromone**self.alpha * distances**self.beta\n",
    "        probabilities /= sum(probabilities)\n",
    "        return np.random.choice(self.indexes, 1, p=probabilities)[0]\n",
    "\n",
    "    def pathGeneration(self):\n",
    "        path = []\n",
    "        prev = self.start\n",
    "        visited = set()\n",
    "        visited.add(prev)\n",
    "        for _ in range(len(self.indexes) - 1):\n",
    "            next = self.move(prev, visited)\n",
    "            visited.add(next)\n",
    "            path.append((prev, next))\n",
    "            prev = next\n",
    "        path.append((next, self.start))\n",
    "        return path\n",
    "\n",
    "    def pathCost(self, path):\n",
    "        cost = 0\n",
    "        for prev,next in path:\n",
    "            cost += self.distances[prev][next]\n",
    "        return cost\n",
    "\n",
    "    def allPathsGeneration(self):\n",
    "        paths = []\n",
    "        for i in range(self.n_ants):\n",
    "            path = self.pathGeneration()\n",
    "            paths.append((path, self.pathCost(path)))\n",
    "        return paths\n",
    "            \n",
    "    def spreadPheromone(self, paths):\n",
    "        self.pheromone *= (1 - self.decay)\n",
    "        for path, _ in paths:\n",
    "            for prev, next in path:\n",
    "                self.pheromone[prev][next] += (1 / self.distances[prev][next])\n",
    "\n",
    "    def run(self):\n",
    "        bestPath = (\"None\", np.inf)\n",
    "        for _ in range(self.n_iterations):\n",
    "            paths = sorted(self.allPathsGeneration(), key= lambda x: x[1])[:self.n_bests]\n",
    "            self.spreadPheromone(paths)\n",
    "            localBestPath = paths[0]\n",
    "            if localBestPath[1] < bestPath[1]:\n",
    "                bestPath = localBestPath\n",
    "        return bestPath\n",
    "        "
   ]
  },
  {
   "cell_type": "code",
   "execution_count": 50,
   "metadata": {},
   "outputs": [
    {
     "data": {
      "text/plain": [
       "([(0, 1), (1, 4), (4, 3), (3, 2), (2, 0)], 9.0)"
      ]
     },
     "execution_count": 50,
     "metadata": {},
     "output_type": "execute_result"
    }
   ],
   "source": [
    "distances = np.array([[np.inf, 2, 2, 5, 7],\n",
    "                      [2, np.inf, 4, 8, 2],\n",
    "                      [2, 4, np.inf, 1, 3],\n",
    "                      [5, 8, 1, np.inf, 2],\n",
    "                      [7, 2, 3, 2, np.inf]])\n",
    "AntColonyOptimizationTSP(distances, 10, 6, 20, 0.5).run()"
   ]
  }
 ],
 "metadata": {
  "kernelspec": {
   "display_name": "Python 3",
   "language": "python",
   "name": "python3"
  },
  "language_info": {
   "codemirror_mode": {
    "name": "ipython",
    "version": 3
   },
   "file_extension": ".py",
   "mimetype": "text/x-python",
   "name": "python",
   "nbconvert_exporter": "python",
   "pygments_lexer": "ipython3",
   "version": "3.9.2 (default, Feb 28 2021, 17:03:44) \n[GCC 10.2.1 20210110]"
  },
  "orig_nbformat": 4,
  "vscode": {
   "interpreter": {
    "hash": "916dbcbb3f70747c44a77c7bcd40155683ae19c65e1c03b4aa3499c5328201f1"
   }
  }
 },
 "nbformat": 4,
 "nbformat_minor": 2
}
