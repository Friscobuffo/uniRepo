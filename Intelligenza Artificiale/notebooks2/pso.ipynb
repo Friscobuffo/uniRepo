{
 "cells": [
  {
   "cell_type": "code",
   "execution_count": 45,
   "metadata": {},
   "outputs": [],
   "source": [
    "import numpy as np"
   ]
  },
  {
   "cell_type": "code",
   "execution_count": 52,
   "metadata": {},
   "outputs": [],
   "source": [
    "def eval(x): # alpine n.2\n",
    "    x1 = x[0]\n",
    "    x2 = x[1]\n",
    "    return -(np.sqrt(np.abs(x1)) * np.sin(x1) * np.sqrt(np.abs(x2)) * np.sin(x2))"
   ]
  },
  {
   "cell_type": "code",
   "execution_count": 47,
   "metadata": {},
   "outputs": [],
   "source": [
    "swarmsize = None\n",
    "iterations = None\n",
    "omega = None # inertia\n",
    "c1 = None # cognitive constant (lambda 1)\n",
    "c2 = None # social constant (lambda 2)"
   ]
  },
  {
   "cell_type": "code",
   "execution_count": 48,
   "metadata": {},
   "outputs": [],
   "source": [
    "def particle_swarm_optimization():\n",
    "    lb = np.array([0, 0])\n",
    "    ub = np.array([10, 10])\n",
    "    \n",
    "    # set lower and upper bounds to velocities based on position bounds\n",
    "    upper_bound_velocity = np.abs(ub - lb)\n",
    "    lower_bound_velocity = -upper_bound_velocity\n",
    "\n",
    "    # initialize particles positions randomly in the function bounds\n",
    "    positions = np.random.rand(swarmsize, 2)  # particles position\n",
    "    positions = lb + positions * (ub - lb)\n",
    "\n",
    "    best_particles_positions = positions.copy()  # best known position per particle\n",
    "    evals = np.empty(swarmsize)  # evaluation of each particle\n",
    "    # evaluating each particle\n",
    "    for i in range(swarmsize):\n",
    "        evals[i] = eval(positions[i])\n",
    "    best_particles_evals = evals.copy()\n",
    "\n",
    "    i_min = np.argmin(best_particles_evals) # index of best eval\n",
    "    best_swarm_eval = best_particles_evals[i_min].copy()\n",
    "    best_swarm_position = best_particles_positions[i_min].copy()\n",
    "\n",
    "    # initial velocity vector\n",
    "    velocities = lower_bound_velocity + np.random.rand(swarmsize, 2) * (\n",
    "            upper_bound_velocity - lower_bound_velocity)\n",
    "\n",
    "    # algorithm core\n",
    "    for _ in range(iterations):\n",
    "        # update velocity vector with slight randomization to approach minimum\n",
    "        rp = np.random.uniform(size=(swarmsize, 2))  # relative to personal best\n",
    "        rg = np.random.uniform(size=(swarmsize, 2))  # relative to global best\n",
    "        # velocity of each particle\n",
    "        velocities = omega * velocities + c1 * rp * (best_particles_positions - positions) \\\n",
    "            + c2 * rg * (best_swarm_position - positions)\n",
    "        # update position vector\n",
    "        positions = positions + velocities\n",
    "\n",
    "        # prevent out of bounds\n",
    "        lower_mask = positions < lb\n",
    "        upper_mask = positions > ub\n",
    "\n",
    "        # if particle position out of bounds, it get placed the edge\n",
    "        positions = positions * (~np.logical_or(lower_mask, upper_mask)) \\\n",
    "            + lb * lower_mask + ub * upper_mask\n",
    "\n",
    "        # update evaluation of each particle\n",
    "        for i in range(swarmsize):\n",
    "            evals[i] = eval(positions[i])\n",
    "\n",
    "        # update best of each particle\n",
    "        i_update = evals < best_particles_evals\n",
    "        best_particles_positions[i_update, :] = positions[i_update, :].copy()\n",
    "        best_particles_evals[i_update] = evals[i_update]\n",
    "\n",
    "        # compare swarm best position with global best position\n",
    "        i_min = np.argmin(best_particles_evals)\n",
    "        if best_particles_evals[i_min] < best_swarm_eval:\n",
    "            best_swarm_position = best_particles_positions[i_min].copy()\n",
    "            best_swarm_eval = best_particles_evals[i_min]\n",
    "    \n",
    "    return best_swarm_position"
   ]
  },
  {
   "cell_type": "code",
   "execution_count": 49,
   "metadata": {},
   "outputs": [],
   "source": [
    "swarmsize = 20\n",
    "iterations = 100\n",
    "omega = 0.4 # inertia\n",
    "c1 = 0.5 # cognitive constant (lambda 1)\n",
    "c2 = 0.5 # social constant (lambda 2)"
   ]
  },
  {
   "cell_type": "code",
   "execution_count": 50,
   "metadata": {},
   "outputs": [
    {
     "name": "stdout",
     "output_type": "stream",
     "text": [
      "goal: [7.917, 7.917]\n",
      "result: [7.91705269 7.91705267]\n"
     ]
    }
   ],
   "source": [
    "result = particle_swarm_optimization()\n",
    "goal = [7.917, 7.917]\n",
    "print(\"goal:\", goal)\n",
    "print(\"result:\", result)"
   ]
  }
 ],
 "metadata": {
  "kernelspec": {
   "display_name": "Python 3.10.6 ('.venv': venv)",
   "language": "python",
   "name": "python3"
  },
  "language_info": {
   "codemirror_mode": {
    "name": "ipython",
    "version": 3
   },
   "file_extension": ".py",
   "mimetype": "text/x-python",
   "name": "python",
   "nbconvert_exporter": "python",
   "pygments_lexer": "ipython3",
   "version": "3.10.6"
  },
  "orig_nbformat": 4,
  "vscode": {
   "interpreter": {
    "hash": "d3039639ac66b5c2e9be30fd36980d10a71d0e8a560c3bbc70b6eec5637d9b47"
   }
  }
 },
 "nbformat": 4,
 "nbformat_minor": 2
}
