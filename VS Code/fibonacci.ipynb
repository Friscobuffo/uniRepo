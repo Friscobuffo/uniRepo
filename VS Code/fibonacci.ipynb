{
 "cells": [
  {
   "cell_type": "code",
   "execution_count": 3,
   "metadata": {},
   "outputs": [
    {
     "name": "stdout",
     "output_type": "stream",
     "text": [
      "ricorsiva:\n",
      "CPU times: user 1.85 ms, sys: 0 ns, total: 1.85 ms\n",
      "Wall time: 1.88 ms\n",
      "\n",
      "34\n",
      "iterativa:\n",
      "CPU times: user 227 µs, sys: 0 ns, total: 227 µs\n",
      "Wall time: 230 µs\n"
     ]
    },
    {
     "data": {
      "text/plain": [
       "2611005926183501768338670946829097324475555189114843467397273230483773870037923307730410719313972291638157639230613843870597997481070930648667960025707364078851859017098672504986584144842548768373271309551281830431960537091677315014266625027123872238011234749984205478230617988978500613170516952885123444971471854671812569739975450866912490650853945622130138277040986146312325044424769652148982077548213909414076005501"
      ]
     },
     "execution_count": 3,
     "metadata": {},
     "output_type": "execute_result"
    }
   ],
   "source": [
    "#n-esimo elemento della sequenza di fibonacci\n",
    "def fibo(n):\n",
    "    def aux(m,a,b):\n",
    "        if (m<=3):\n",
    "            return a+b\n",
    "        return aux(m-1,b,a+b)\n",
    "    return aux(n,0,1)\n",
    "print('ricorsiva:')\n",
    "%time fibo(2000)\n",
    "print('')\n",
    "\n",
    "def fibonacci(m,a=0,b=1):\n",
    "    if (m<=3):\n",
    "        return a+b\n",
    "    return fibonacci(m-1,b,a+b)\n",
    "print(fibonacci(10))\n",
    "\n",
    "#n-esimo elemento della sequenza di fibonacci\n",
    "#iterativo\n",
    "def itFibo(n):\n",
    "    (a,b) = (0,1)\n",
    "    for i in range(2,n):\n",
    "        (a,b) = (b,a+b)\n",
    "    return b\n",
    "print('iterativa:')\n",
    "%time itFibo(2000)"
   ]
  },
  {
   "cell_type": "code",
   "execution_count": 4,
   "metadata": {},
   "outputs": [
    {
     "name": "stdout",
     "output_type": "stream",
     "text": [
      "CPU times: user 12 µs, sys: 1e+03 ns, total: 13 µs\n",
      "Wall time: 17.4 µs\n"
     ]
    },
    {
     "data": {
      "text/plain": [
       "[0, 1, 1, 2, 3, 5, 8, 13, 21, 34]"
      ]
     },
     "execution_count": 4,
     "metadata": {},
     "output_type": "execute_result"
    }
   ],
   "source": [
    "#lista con primi n elementi sequenza fibonacci\n",
    "def fibonacci(n):\n",
    "    if n<=2:\n",
    "        return [0,1]\n",
    "    list = fibonacci(n-1)\n",
    "    return list + [list[-1] + list[-2]]\n",
    "\n",
    "%time fibonacci(10)"
   ]
  }
 ],
 "metadata": {
  "kernelspec": {
   "display_name": "Python 3.10.6 64-bit",
   "language": "python",
   "name": "python3"
  },
  "language_info": {
   "codemirror_mode": {
    "name": "ipython",
    "version": 3
   },
   "file_extension": ".py",
   "mimetype": "text/x-python",
   "name": "python",
   "nbconvert_exporter": "python",
   "pygments_lexer": "ipython3",
   "version": "3.10.6"
  },
  "orig_nbformat": 4,
  "vscode": {
   "interpreter": {
    "hash": "916dbcbb3f70747c44a77c7bcd40155683ae19c65e1c03b4aa3499c5328201f1"
   }
  }
 },
 "nbformat": 4,
 "nbformat_minor": 2
}
