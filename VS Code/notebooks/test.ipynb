{
 "cells": [
  {
   "cell_type": "code",
   "execution_count": 20,
   "metadata": {},
   "outputs": [
    {
     "name": "stdout",
     "output_type": "stream",
     "text": [
      "0 0 0\n",
      "1 1 1\n",
      "2 1 1\n",
      "3 2 2\n",
      "4 2 2\n",
      "5 2 2\n",
      "6 3 3\n",
      "7 3 3\n",
      "8 3 3\n",
      "9 3 3\n",
      "10 4 4\n",
      "11 4 4\n",
      "12 4 4\n",
      "13 4 4\n",
      "14 4 4\n",
      "15 5 5\n",
      "16 5 5\n",
      "17 5 5\n",
      "18 5 5\n",
      "19 5 5\n",
      "20 5 5\n",
      "21 6 6\n",
      "22 6 6\n",
      "23 6 6\n",
      "24 6 6\n",
      "25 6 6\n",
      "26 6 6\n",
      "27 6 6\n",
      "28 7 7\n",
      "29 7 7\n",
      "30 7 7\n",
      "31 7 7\n",
      "32 7 7\n",
      "33 7 7\n",
      "34 7 7\n",
      "35 7 7\n",
      "36 8 8\n",
      "37 8 8\n",
      "38 8 8\n",
      "39 8 8\n",
      "40 8 8\n",
      "41 8 8\n",
      "42 8 8\n",
      "43 8 8\n",
      "44 8 8\n",
      "45 9 9\n",
      "46 9 9\n",
      "47 9 9\n",
      "48 9 9\n",
      "49 9 9\n",
      "50 9 9\n",
      "51 9 9\n",
      "52 9 9\n",
      "53 9 9\n",
      "54 9 9\n"
     ]
    }
   ],
   "source": [
    "from math import sqrt\n",
    "def index(v):\n",
    "    dis = 1 + (8*v)\n",
    "    return int((-1+(sqrt(dis)))/2)\n",
    "    \n",
    "chosen = dict()\n",
    "populationSize = 10\n",
    "tot = int(populationSize * (populationSize + 1) / 2)\n",
    "\n",
    "populationSize**2 + populationSize -2*tot == 0\n",
    "\n",
    "val = 0\n",
    "for i in range(tot):\n",
    "    chosen[i] = val\n",
    "    if (val+2)*(val+1)/2 == i+1:\n",
    "        val +=1\n",
    "\n",
    "for i in chosen:\n",
    "    a = 1\n",
    "    b = 1\n",
    "    print(i, chosen[i], int((-1+sqrt(1+(8*i)))/2))"
   ]
  }
 ],
 "metadata": {
  "kernelspec": {
   "display_name": "Python 3.10.6 64-bit",
   "language": "python",
   "name": "python3"
  },
  "language_info": {
   "codemirror_mode": {
    "name": "ipython",
    "version": 3
   },
   "file_extension": ".py",
   "mimetype": "text/x-python",
   "name": "python",
   "nbconvert_exporter": "python",
   "pygments_lexer": "ipython3",
   "version": "3.10.6"
  },
  "orig_nbformat": 4,
  "vscode": {
   "interpreter": {
    "hash": "916dbcbb3f70747c44a77c7bcd40155683ae19c65e1c03b4aa3499c5328201f1"
   }
  }
 },
 "nbformat": 4,
 "nbformat_minor": 2
}
