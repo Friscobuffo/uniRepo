{
 "cells": [
  {
   "cell_type": "code",
   "execution_count": 12,
   "metadata": {},
   "outputs": [],
   "source": [
    "from time import time as ltime0316\n",
    "from random import random as rnd0316\n",
    "\n",
    "class ProgressBar():\n",
    "    __fill = '█'\n",
    "\n",
    "    def __init__(self, iterations, barLength = 40):\n",
    "        self.__iterations = iterations\n",
    "        self.__counter = 0\n",
    "        self.__start = ltime0316()\n",
    "        self.__end = False\n",
    "        self.__total_time = 0\n",
    "        self.__frequency = 1\n",
    "        self.__frequencies = []\n",
    "        self.__freq10 = 1\n",
    "        self.__bar_length = barLength-1\n",
    "        self.__last_counter = 0\n",
    "        self.__last_time = self.__start\n",
    "    \n",
    "    def __fill_fun(self, val):\n",
    "        if val==0.0: return '█'\n",
    "        if val<0.125: return '▏'\n",
    "        if val<0.25: return '▎'\n",
    "        if val<0.375: return '▍'\n",
    "        if val<0.5: return '▌'\n",
    "        if val<0.625: return '▋'\n",
    "        if val<0.75: return '▊'\n",
    "        if val<0.875: return '▉'\n",
    "        return '█'\n",
    "\n",
    "    def __update(self):\n",
    "        this_time = ltime0316()\n",
    "        deltaIter = self.__counter - self.__last_counter\n",
    "        deltaTime = this_time - self.__last_time\n",
    "        self.__total_time = this_time - self.__start\n",
    "        self.__frequency = self.__freq(deltaIter / deltaTime)\n",
    "        self.__freq10 = self.__frequency // 10\n",
    "        if self.__freq10 == 0: self.__freq10 = 1\n",
    "        self.__print_bar()\n",
    "        self.__last_counter = self.__counter\n",
    "        self.__last_time = this_time\n",
    "\n",
    "    def next(self):\n",
    "        self.__counter += 1\n",
    "        if not self.__end:\n",
    "            if self.__counter == self.__iterations:\n",
    "                self.__end = True\n",
    "                self.__update()\n",
    "                return\n",
    "            if self.__frequency > 100000:\n",
    "                if 10/self.__frequency<rnd0316():\n",
    "                    self.__update()\n",
    "            elif self.__frequency<self.__iterations:\n",
    "                if self.__counter % self.__freq10 == 0:\n",
    "                    self.__update()\n",
    "            elif self.__counter <= 3:\n",
    "                self.__update()\n",
    "\n",
    "    def reset(self, iterations, barLength = 40):\n",
    "        self.__init__(iterations, barLength)\n",
    "    \n",
    "    def __freq(self, lastFreq):\n",
    "        if len(self.__frequencies)==10:\n",
    "            div = 55\n",
    "            self.__frequencies.pop(0)\n",
    "        elif len(self.__frequencies) == 0:\n",
    "            self.__frequencies.append(lastFreq)\n",
    "            return lastFreq\n",
    "        else:\n",
    "            div = 0\n",
    "            for i in range(len(self.__frequencies)):\n",
    "                div+=len(self.__frequencies)-i\n",
    "        self.__frequencies.append(lastFreq)\n",
    "        weight = 11 - len(self.__frequencies)\n",
    "        tot = 0\n",
    "        for f in self.__frequencies:\n",
    "            tot += (weight * f)\n",
    "            weight += 1\n",
    "        freq = tot/div\n",
    "        if freq > 10: return int(freq)\n",
    "        return round(freq, 2)\n",
    "\n",
    "    def __eta(self, freq):\n",
    "        eta = int((self.__iterations-self.__counter) / freq)\n",
    "        mins = \"\"\n",
    "        if eta >= 60:\n",
    "            mins = eta//60\n",
    "            mins = str(mins) + \"mins \"\n",
    "            eta = eta%60\n",
    "        return mins + str(eta)\n",
    "    \n",
    "    def __last_output(self, bar):\n",
    "        if self.__total_time >= 60:\n",
    "            mins = self.__total_time//60\n",
    "            secs = int(self.__total_time%60)\n",
    "            totalTime = str(mins) +\" mins \" + str(secs) + \" seconds\"\n",
    "        else:\n",
    "            totalTime = str(int(self.__total_time)) + \" seconds\"\n",
    "        return f'\\r{bar} [100.00]% (total time: {totalTime})'+(20)*\" \"\n",
    "\n",
    "    def __print_bar(self):\n",
    "        freq = self.__frequency\n",
    "        eta = self.__eta(freq)\n",
    "        if freq%1==0:\n",
    "            frequency = str(freq)\n",
    "        else:\n",
    "            frequency = \"{:.2f}\".format(freq)\n",
    "        percent = 100*(self.__counter / float(self.__iterations))\n",
    "        spercent = \"{:.2f}\".format(percent)\n",
    "        filledLength = self.__bar_length * self.__counter // self.__iterations\n",
    "        factor = (self.__bar_length * self.__counter / self.__iterations) - (self.__bar_length * self.__counter // self.__iterations)\n",
    "        # bar = '|' + (self.__fill * filledLength) + '-' * (self.__bar_length - filledLength) + '|'\n",
    "        bar = '|' + (self.__fill * (filledLength)) + self.__fill_fun(factor) + ' ' * (self.__bar_length - filledLength) + '|'\n",
    "        if not self.__end:\n",
    "            print(f'\\r{bar} [{spercent}]% (eta: {eta}s, frequency: {frequency}/s)'+7*\" \", end = '', flush = True)\n",
    "        else:\n",
    "            print(self.__last_output(bar))"
   ]
  },
  {
   "cell_type": "code",
   "execution_count": 16,
   "metadata": {},
   "outputs": [
    {
     "name": "stdout",
     "output_type": "stream",
     "text": [
      "|▏                                       | [0.05]% (eta: 0s, frequency: 39247/s)          "
     ]
    },
    {
     "ename": "KeyboardInterrupt",
     "evalue": "",
     "output_type": "error",
     "traceback": [
      "\u001b[0;31m---------------------------------------------------------------------------\u001b[0m",
      "\u001b[0;31mKeyboardInterrupt\u001b[0m                         Traceback (most recent call last)",
      "Cell \u001b[0;32mIn [16], line 12\u001b[0m\n\u001b[1;32m     10\u001b[0m         sleep(\u001b[39m0.001\u001b[39m)\n\u001b[1;32m     11\u001b[0m     \u001b[39melse\u001b[39;00m:\n\u001b[0;32m---> 12\u001b[0m         sleep(\u001b[39m0.002\u001b[39;49m)\n\u001b[1;32m     14\u001b[0m     i \u001b[39m+\u001b[39m\u001b[39m=\u001b[39m \u001b[39m1\u001b[39m\n\u001b[1;32m     15\u001b[0m \u001b[39mprint\u001b[39m(time()\u001b[39m-\u001b[39minizio)\n",
      "\u001b[0;31mKeyboardInterrupt\u001b[0m: "
     ]
    }
   ],
   "source": [
    "from time import time, sleep\n",
    "inizio = time()\n",
    "\n",
    "tot = 5678\n",
    "bar = ProgressBar(tot)\n",
    "i=0\n",
    "while i<tot:\n",
    "    bar.next()\n",
    "    if i<tot/2:\n",
    "        sleep(0.001)\n",
    "    else:\n",
    "        sleep(0.002)\n",
    "    \n",
    "    i += 1\n",
    "print(time()-inizio)\n",
    "bar.reset(tot)\n",
    "i=0\n",
    "while i<tot:\n",
    "    if i<tot/2:\n",
    "        sleep(0.001)\n",
    "    else:\n",
    "        sleep(0.002)\n",
    "    bar.next()\n",
    "    i += 1"
   ]
  },
  {
   "cell_type": "code",
   "execution_count": 70,
   "metadata": {},
   "outputs": [],
   "source": [
    "tot = 5678000\n",
    "bar = ProgressBar(tot)\n",
    "i=0\n",
    "while i<tot:\n",
    "    i += 1"
   ]
  },
  {
   "cell_type": "code",
   "execution_count": 15,
   "metadata": {},
   "outputs": [
    {
     "name": "stdout",
     "output_type": "stream",
     "text": [
      "|█▎                                      | [2.89]% (eta: 4mins 21s, frequency: 185763/s)          "
     ]
    },
    {
     "ename": "KeyboardInterrupt",
     "evalue": "",
     "output_type": "error",
     "traceback": [
      "\u001b[0;31m---------------------------------------------------------------------------\u001b[0m",
      "\u001b[0;31mKeyboardInterrupt\u001b[0m                         Traceback (most recent call last)",
      "Cell \u001b[0;32mIn [15], line 4\u001b[0m\n\u001b[1;32m      2\u001b[0m i\u001b[39m=\u001b[39m\u001b[39m0\u001b[39m\n\u001b[1;32m      3\u001b[0m \u001b[39mfor\u001b[39;00m i \u001b[39min\u001b[39;00m \u001b[39mrange\u001b[39m(\u001b[39m50000000\u001b[39m):\n\u001b[0;32m----> 4\u001b[0m     bar\u001b[39m.\u001b[39;49mnext()\n\u001b[1;32m      5\u001b[0m     \u001b[39mif\u001b[39;00m i\u001b[39m>\u001b[39m\u001b[39m25000000\u001b[39m:\n\u001b[1;32m      6\u001b[0m         sleep(\u001b[39m1\u001b[39m)\n",
      "Cell \u001b[0;32mIn [12], line 52\u001b[0m, in \u001b[0;36mProgressBar.next\u001b[0;34m(self)\u001b[0m\n\u001b[1;32m     50\u001b[0m \u001b[39mif\u001b[39;00m \u001b[39mself\u001b[39m\u001b[39m.\u001b[39m__frequency \u001b[39m>\u001b[39m \u001b[39m100000\u001b[39m:\n\u001b[1;32m     51\u001b[0m     \u001b[39mif\u001b[39;00m \u001b[39m10\u001b[39m\u001b[39m/\u001b[39m\u001b[39mself\u001b[39m\u001b[39m.\u001b[39m__frequency\u001b[39m<\u001b[39mrnd0316():\n\u001b[0;32m---> 52\u001b[0m         \u001b[39mself\u001b[39;49m\u001b[39m.\u001b[39;49m__update()\n\u001b[1;32m     53\u001b[0m \u001b[39melif\u001b[39;00m \u001b[39mself\u001b[39m\u001b[39m.\u001b[39m__frequency\u001b[39m<\u001b[39m\u001b[39mself\u001b[39m\u001b[39m.\u001b[39m__iterations:\n\u001b[1;32m     54\u001b[0m     \u001b[39mif\u001b[39;00m \u001b[39mself\u001b[39m\u001b[39m.\u001b[39m__counter \u001b[39m%\u001b[39m \u001b[39mself\u001b[39m\u001b[39m.\u001b[39m__freq10 \u001b[39m==\u001b[39m \u001b[39m0\u001b[39m:\n",
      "Cell \u001b[0;32mIn [12], line 39\u001b[0m, in \u001b[0;36mProgressBar.__update\u001b[0;34m(self)\u001b[0m\n\u001b[1;32m     37\u001b[0m \u001b[39mself\u001b[39m\u001b[39m.\u001b[39m__freq10 \u001b[39m=\u001b[39m \u001b[39mself\u001b[39m\u001b[39m.\u001b[39m__frequency \u001b[39m/\u001b[39m\u001b[39m/\u001b[39m \u001b[39m10\u001b[39m\n\u001b[1;32m     38\u001b[0m \u001b[39mif\u001b[39;00m \u001b[39mself\u001b[39m\u001b[39m.\u001b[39m__freq10 \u001b[39m==\u001b[39m \u001b[39m0\u001b[39m: \u001b[39mself\u001b[39m\u001b[39m.\u001b[39m__freq10 \u001b[39m=\u001b[39m \u001b[39m1\u001b[39m\n\u001b[0;32m---> 39\u001b[0m \u001b[39mself\u001b[39;49m\u001b[39m.\u001b[39;49m__print_bar()\n\u001b[1;32m     40\u001b[0m \u001b[39mself\u001b[39m\u001b[39m.\u001b[39m__last_counter \u001b[39m=\u001b[39m \u001b[39mself\u001b[39m\u001b[39m.\u001b[39m__counter\n\u001b[1;32m     41\u001b[0m \u001b[39mself\u001b[39m\u001b[39m.\u001b[39m__last_time \u001b[39m=\u001b[39m this_time\n",
      "Cell \u001b[0;32mIn [12], line 115\u001b[0m, in \u001b[0;36mProgressBar.__print_bar\u001b[0;34m(self)\u001b[0m\n\u001b[1;32m    113\u001b[0m bar \u001b[39m=\u001b[39m \u001b[39m'\u001b[39m\u001b[39m|\u001b[39m\u001b[39m'\u001b[39m \u001b[39m+\u001b[39m (\u001b[39mself\u001b[39m\u001b[39m.\u001b[39m__fill \u001b[39m*\u001b[39m (filledLength)) \u001b[39m+\u001b[39m \u001b[39mself\u001b[39m\u001b[39m.\u001b[39m__fill_fun(factor) \u001b[39m+\u001b[39m \u001b[39m'\u001b[39m\u001b[39m \u001b[39m\u001b[39m'\u001b[39m \u001b[39m*\u001b[39m (\u001b[39mself\u001b[39m\u001b[39m.\u001b[39m__bar_length \u001b[39m-\u001b[39m filledLength) \u001b[39m+\u001b[39m \u001b[39m'\u001b[39m\u001b[39m|\u001b[39m\u001b[39m'\u001b[39m\n\u001b[1;32m    114\u001b[0m \u001b[39mif\u001b[39;00m \u001b[39mnot\u001b[39;00m \u001b[39mself\u001b[39m\u001b[39m.\u001b[39m__end:\n\u001b[0;32m--> 115\u001b[0m     \u001b[39mprint\u001b[39;49m(\u001b[39mf\u001b[39;49m\u001b[39m'\u001b[39;49m\u001b[39m\\r\u001b[39;49;00m\u001b[39m{\u001b[39;49;00mbar\u001b[39m}\u001b[39;49;00m\u001b[39m [\u001b[39;49m\u001b[39m{\u001b[39;49;00mspercent\u001b[39m}\u001b[39;49;00m\u001b[39m]% (eta: \u001b[39;49m\u001b[39m{\u001b[39;49;00meta\u001b[39m}\u001b[39;49;00m\u001b[39ms, frequency: \u001b[39;49m\u001b[39m{\u001b[39;49;00mfrequency\u001b[39m}\u001b[39;49;00m\u001b[39m/s)\u001b[39;49m\u001b[39m'\u001b[39;49m\u001b[39m+\u001b[39;49m\u001b[39m7\u001b[39;49m\u001b[39m*\u001b[39;49m\u001b[39m\"\u001b[39;49m\u001b[39m \u001b[39;49m\u001b[39m\"\u001b[39;49m, end \u001b[39m=\u001b[39;49m \u001b[39m'\u001b[39;49m\u001b[39m'\u001b[39;49m, flush \u001b[39m=\u001b[39;49m \u001b[39mTrue\u001b[39;49;00m)\n\u001b[1;32m    116\u001b[0m \u001b[39melse\u001b[39;00m:\n\u001b[1;32m    117\u001b[0m     \u001b[39mprint\u001b[39m(\u001b[39mself\u001b[39m\u001b[39m.\u001b[39m__last_output(bar))\n",
      "File \u001b[0;32m~/.local/lib/python3.10/site-packages/ipykernel/iostream.py:480\u001b[0m, in \u001b[0;36mOutStream.flush\u001b[0;34m(self)\u001b[0m\n\u001b[1;32m    478\u001b[0m     \u001b[39mself\u001b[39m\u001b[39m.\u001b[39mpub_thread\u001b[39m.\u001b[39mschedule(evt\u001b[39m.\u001b[39mset)\n\u001b[1;32m    479\u001b[0m     \u001b[39m# and give a timeout to avoid\u001b[39;00m\n\u001b[0;32m--> 480\u001b[0m     \u001b[39mif\u001b[39;00m \u001b[39mnot\u001b[39;00m evt\u001b[39m.\u001b[39;49mwait(\u001b[39mself\u001b[39;49m\u001b[39m.\u001b[39;49mflush_timeout):\n\u001b[1;32m    481\u001b[0m         \u001b[39m# write directly to __stderr__ instead of warning because\u001b[39;00m\n\u001b[1;32m    482\u001b[0m         \u001b[39m# if this is happening sys.stderr may be the problem.\u001b[39;00m\n\u001b[1;32m    483\u001b[0m         \u001b[39mprint\u001b[39m(\u001b[39m\"\u001b[39m\u001b[39mIOStream.flush timed out\u001b[39m\u001b[39m\"\u001b[39m, file\u001b[39m=\u001b[39msys\u001b[39m.\u001b[39m__stderr__)\n\u001b[1;32m    484\u001b[0m \u001b[39melse\u001b[39;00m:\n",
      "File \u001b[0;32m/usr/lib/python3.10/threading.py:607\u001b[0m, in \u001b[0;36mEvent.wait\u001b[0;34m(self, timeout)\u001b[0m\n\u001b[1;32m    605\u001b[0m signaled \u001b[39m=\u001b[39m \u001b[39mself\u001b[39m\u001b[39m.\u001b[39m_flag\n\u001b[1;32m    606\u001b[0m \u001b[39mif\u001b[39;00m \u001b[39mnot\u001b[39;00m signaled:\n\u001b[0;32m--> 607\u001b[0m     signaled \u001b[39m=\u001b[39m \u001b[39mself\u001b[39;49m\u001b[39m.\u001b[39;49m_cond\u001b[39m.\u001b[39;49mwait(timeout)\n\u001b[1;32m    608\u001b[0m \u001b[39mreturn\u001b[39;00m signaled\n",
      "File \u001b[0;32m/usr/lib/python3.10/threading.py:324\u001b[0m, in \u001b[0;36mCondition.wait\u001b[0;34m(self, timeout)\u001b[0m\n\u001b[1;32m    322\u001b[0m \u001b[39melse\u001b[39;00m:\n\u001b[1;32m    323\u001b[0m     \u001b[39mif\u001b[39;00m timeout \u001b[39m>\u001b[39m \u001b[39m0\u001b[39m:\n\u001b[0;32m--> 324\u001b[0m         gotit \u001b[39m=\u001b[39m waiter\u001b[39m.\u001b[39;49macquire(\u001b[39mTrue\u001b[39;49;00m, timeout)\n\u001b[1;32m    325\u001b[0m     \u001b[39melse\u001b[39;00m:\n\u001b[1;32m    326\u001b[0m         gotit \u001b[39m=\u001b[39m waiter\u001b[39m.\u001b[39macquire(\u001b[39mFalse\u001b[39;00m)\n",
      "\u001b[0;31mKeyboardInterrupt\u001b[0m: "
     ]
    }
   ],
   "source": [
    "bar.reset(50000000)\n",
    "i=0\n",
    "for i in range(50000000):\n",
    "    bar.next()\n",
    "    if i>25000000:\n",
    "        sleep(1)"
   ]
  }
 ],
 "metadata": {
  "kernelspec": {
   "display_name": "Python 3.10.6 64-bit",
   "language": "python",
   "name": "python3"
  },
  "language_info": {
   "codemirror_mode": {
    "name": "ipython",
    "version": 3
   },
   "file_extension": ".py",
   "mimetype": "text/x-python",
   "name": "python",
   "nbconvert_exporter": "python",
   "pygments_lexer": "ipython3",
   "version": "3.10.6"
  },
  "orig_nbformat": 4,
  "vscode": {
   "interpreter": {
    "hash": "916dbcbb3f70747c44a77c7bcd40155683ae19c65e1c03b4aa3499c5328201f1"
   }
  }
 },
 "nbformat": 4,
 "nbformat_minor": 2
}
