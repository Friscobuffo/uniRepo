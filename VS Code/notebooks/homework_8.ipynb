{
 "cells": [
  {
   "cell_type": "markdown",
   "metadata": {},
   "source": [
    "Tutte le possibili permutazioni di n elementi"
   ]
  },
  {
   "cell_type": "code",
   "execution_count": 2,
   "metadata": {},
   "outputs": [
    {
     "data": {
      "text/plain": [
       "120"
      ]
     },
     "execution_count": 2,
     "metadata": {},
     "output_type": "execute_result"
    }
   ],
   "source": [
    "def permutazioni(elementi):\n",
    "    if (len(elementi) == 1):\n",
    "        return [elementi]\n",
    "    risultato = []\n",
    "    for elemento in elementi:\n",
    "        temp = elementi.copy()\n",
    "        temp.remove(elemento)\n",
    "        _permutazioni = permutazioni(temp)\n",
    "        _permutazioni = list(map((lambda x: [elemento]+x), _permutazioni))\n",
    "        risultato += _permutazioni\n",
    "    return risultato\n",
    "\n",
    "lista = [1,2,3,4,5]\n",
    "(len(permutazioni(lista)))"
   ]
  },
  {
   "cell_type": "markdown",
   "metadata": {},
   "source": [
    "Tutte le possibili disposizioni con ripetizioni di n elementi"
   ]
  },
  {
   "cell_type": "code",
   "execution_count": 6,
   "metadata": {},
   "outputs": [
    {
     "data": {
      "text/plain": [
       "64"
      ]
     },
     "execution_count": 6,
     "metadata": {},
     "output_type": "execute_result"
    }
   ],
   "source": [
    "def disposizioni(elementi, k):\n",
    "    if (k==1):\n",
    "        return list(map(lambda x: [x], elementi))\n",
    "    risultato = []\n",
    "    passo_precedente = disposizioni(elementi, k-1)\n",
    "    for elemento in elementi:\n",
    "        _disposizioni = (map((lambda x: [elemento]+x), passo_precedente))\n",
    "        risultato += _disposizioni\n",
    "    return risultato\n",
    "\n",
    "lista = [1,2,3,4]\n",
    "len(disposizioni(lista,3))"
   ]
  },
  {
   "cell_type": "markdown",
   "metadata": {},
   "source": [
    "Tutte le possibili combinazioni di n elementi"
   ]
  },
  {
   "cell_type": "code",
   "execution_count": 36,
   "metadata": {},
   "outputs": [],
   "source": [
    "def num_combinazioni(n, k):\n",
    "    if n<k: return 0\n",
    "    if k<1: return 1\n",
    "    return n*num_combinazioni(n-1,k-1)//k\n",
    "\n",
    "def combinazioni(oggetti, k):\n",
    "    # caso base combinazioni di dimensione 1 ...\n",
    "    if (k==1):\n",
    "        # ... sono gli elementi stessi presi singolarmente\n",
    "        return list(map(lambda x: {x}, oggetti))\n",
    "    risultato = []\n",
    "    # caso k, prendo le combinazioni di classe k-1\n",
    "    _combinazioni = combinazioni(oggetti, k-1)\n",
    "    combinazioni_da_trovare = num_combinazioni(len(oggetti), k) #utile per non fare iterazioni inutili, migliora l'efficienza di un fattore 2 circa\n",
    "    combinazioni_trovate = 0\n",
    "    # per ogni c combinazione del passo k-1 aggiungo ogni possibile elemento ...\n",
    "    for oggetto in oggetti:\n",
    "        for insieme in _combinazioni:\n",
    "            if combinazioni_trovate == combinazioni_da_trovare: break #se le ho gia trovate tutte interrompo\n",
    "            # ... solo se l'elemento non appartiene gia alla combinazione c\n",
    "            if oggetto not in insieme:\n",
    "                temp = insieme.copy()\n",
    "                temp.add(oggetto)\n",
    "                # e se la combinazione trovata è nuova la aggiungo al risultato finale\n",
    "                if temp not in risultato:\n",
    "                    combinazioni_trovate+=1\n",
    "                    risultato.append(temp)\n",
    "        if combinazioni_da_trovare == combinazioni_trovate: break #se le ho gia trovate tutte interrompo\n",
    "    return risultato"
   ]
  },
  {
   "cell_type": "code",
   "execution_count": 7,
   "metadata": {},
   "outputs": [
    {
     "data": {
      "text/plain": [
       "[{1, 2, 3},\n",
       " {1, 2, 4},\n",
       " {1, 2, 5},\n",
       " {1, 3, 4},\n",
       " {1, 3, 5},\n",
       " {1, 4, 5},\n",
       " {2, 3, 4},\n",
       " {2, 3, 5},\n",
       " {2, 4, 5},\n",
       " {3, 4, 5}]"
      ]
     },
     "execution_count": 7,
     "metadata": {},
     "output_type": "execute_result"
    }
   ],
   "source": [
    "#versione senza variabile con il numero delle combinazioni trovate\n",
    "def combinazioni2(oggetti, k):\n",
    "    # caso base combinazioni di dimensione 1 ...\n",
    "    if (k==1):\n",
    "        # ... sono gli elementi stessi presi singolarmente\n",
    "        return list(map(lambda x: {x}, oggetti))\n",
    "    risultato = []\n",
    "    # caso k, prendo le combinazioni di classe k-1\n",
    "    _combinazioni = combinazioni2(oggetti, k-1)\n",
    "    # per ogni c combinazione del passo k-1 aggiungo ogni possibile elemento ...\n",
    "    for oggetto in oggetti:\n",
    "        for insieme in _combinazioni:\n",
    "            # ... solo se l'elemento non appartiene gia alla combinazione c\n",
    "            if oggetto not in insieme:\n",
    "                temp = insieme.copy()\n",
    "                temp.add(oggetto)\n",
    "                # e se la combinazione trovata è nuova la aggiungo al risultato finale\n",
    "                if temp not in risultato:\n",
    "                    risultato.append(temp)\n",
    "    return risultato\n",
    "lista = [1,2,3,4,5]\n",
    "combinazioni2(lista,3)"
   ]
  },
  {
   "cell_type": "code",
   "execution_count": 38,
   "metadata": {},
   "outputs": [],
   "source": [
    "#versione 3\n",
    "def combinazioni_K(oggetti, k):\n",
    "    if k==len(oggetti):\n",
    "        return [set(oggetti)]\n",
    "    result = []\n",
    "    _combinazioni = combinazioni_K(oggetti, k+1)\n",
    "    combinazioni_da_trovare = num_combinazioni(len(oggetti), k)\n",
    "    combinazioni_trovate = 0\n",
    "    for combinazione in _combinazioni:\n",
    "        if combinazioni_trovate == combinazioni_da_trovare: break\n",
    "        for elemento in combinazione:\n",
    "            temp = combinazione.copy()\n",
    "            temp.remove(elemento)\n",
    "            if temp not in result:\n",
    "                combinazioni_trovate+=1\n",
    "                result.append(temp)\n",
    "            if combinazioni_trovate == combinazioni_da_trovare: break\n",
    "    return result"
   ]
  },
  {
   "cell_type": "code",
   "execution_count": 69,
   "metadata": {},
   "outputs": [],
   "source": [
    "#versione 4\n",
    "def combinazioni_finale(oggetti, k):\n",
    "    meta = len(oggetti)//2\n",
    "    if k>meta: return combinazioni_K(oggetti,k)\n",
    "    return combinazioni(oggetti,k)"
   ]
  },
  {
   "cell_type": "markdown",
   "metadata": {},
   "source": [
    "Calcolo speedup prima versione contro versione finale"
   ]
  },
  {
   "cell_type": "code",
   "execution_count": 74,
   "metadata": {},
   "outputs": [
    {
     "name": "stdout",
     "output_type": "stream",
     "text": [
      "k = 2    speedup =  0.9755469755469756\n",
      "k = 3    speedup =  1.5996991475848237\n",
      "k = 4    speedup =  0.8184090151143976\n",
      "k = 5    speedup =  1.3222191553289566\n",
      "k = 6    speedup =  1.5258650724004945\n",
      "k = 7    speedup =  1.7996589947578456\n",
      "k = 8    speedup =  1.7668727298408673\n",
      "k = 9    speedup =  5.9466344916177585\n",
      "k = 10    speedup =  30.052151679795454\n",
      "k = 11    speedup =  343.2211731725378\n",
      "k = 12    speedup =  5834.603456553048\n",
      "k = 13    speedup =  98952.67479674796\n"
     ]
    }
   ],
   "source": [
    "import time\n",
    "lista=[1,2,3,4,5,6,7,8,9,10,11,12,13,14]\n",
    "speedup = 0\n",
    "r = range(2,len(lista))\n",
    "for i in r:\n",
    "    inizio1 = time.time()\n",
    "    combinazioni_finale(lista,i)\n",
    "    fine1 = time.time()\n",
    "    inizio2 = fine1\n",
    "    combinazioni2(lista,i)\n",
    "    fine2 = time.time()\n",
    "    print(\"k =\",i,\"   speedup = \",(fine2-inizio2)/(fine1-inizio1))"
   ]
  }
 ],
 "metadata": {
  "kernelspec": {
   "display_name": "Python 3.10.6 64-bit",
   "language": "python",
   "name": "python3"
  },
  "language_info": {
   "codemirror_mode": {
    "name": "ipython",
    "version": 3
   },
   "file_extension": ".py",
   "mimetype": "text/x-python",
   "name": "python",
   "nbconvert_exporter": "python",
   "pygments_lexer": "ipython3",
   "version": "3.10.6"
  },
  "orig_nbformat": 4,
  "vscode": {
   "interpreter": {
    "hash": "916dbcbb3f70747c44a77c7bcd40155683ae19c65e1c03b4aa3499c5328201f1"
   }
  }
 },
 "nbformat": 4,
 "nbformat_minor": 2
}
