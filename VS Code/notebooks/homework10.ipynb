{
 "cells": [
  {
   "cell_type": "markdown",
   "metadata": {},
   "source": [
    "## util functions"
   ]
  },
  {
   "cell_type": "code",
   "execution_count": 13,
   "metadata": {},
   "outputs": [],
   "source": [
    "import random\n",
    "import math\n",
    "\n",
    "# returns a matrix of random connection costs between cities\n",
    "# costs between 1 and maxCost\n",
    "def randomConnections(cities, maxCost):\n",
    "    connections = []\n",
    "    for i in range(cities):\n",
    "        connections.append([0]*cities)\n",
    "    for i in range(cities):\n",
    "        for j in range(i+1,cities):\n",
    "            connections[i][j] = random.randint(1, maxCost)\n",
    "            connections[j][i] = connections[i][j]\n",
    "    return connections\n",
    "\n",
    "# changes cities visit order\n",
    "def tweak(state, i, j):\n",
    "    state[i], state[j] = state[j], state[i]\n",
    "\n",
    "# returns random starting cities order\n",
    "def randomState(cities):\n",
    "    i=0\n",
    "    state = list(range(cities))\n",
    "    while(i<200):\n",
    "        i+=1\n",
    "        tweak(state, random.randint(0,cities-1), random.randint(0,cities-1))\n",
    "    return state\n",
    "\n",
    "# evaluates total travel cost\n",
    "def evalState(state, connections):\n",
    "    size = len(state)\n",
    "    cost = 0\n",
    "    for i in range(size-1):\n",
    "        cost+=connections[state[i]][state[i+1]]\n",
    "    cost+=connections[state[size-1]][state[0]]\n",
    "    return cost"
   ]
  },
  {
   "cell_type": "markdown",
   "metadata": {},
   "source": [
    "## simulated annealing"
   ]
  },
  {
   "cell_type": "code",
   "execution_count": 14,
   "metadata": {},
   "outputs": [],
   "source": [
    "# returns a tweaked state from a starting state\n",
    "def nextRandomState(state):\n",
    "    size = len(state)\n",
    "    i = random.randint(0,size-1)\n",
    "    j = random.randint(0,size-1)\n",
    "    while i==j: j = random.randint(0,size-1)\n",
    "    next_state = state.copy()\n",
    "    tweak(next_state, i, j)\n",
    "    return next_state\n",
    "    \n",
    "# simulated annealing\n",
    "def simulatedAnnealing(initialState, iterations, startingT, connections, alfa):\n",
    "    bestState = initialState\n",
    "    bestEval = evalState(bestState, connections)\n",
    "    currentState = bestState\n",
    "    currentEval = bestEval\n",
    "    t = startingT\n",
    "    while t>0.1:\n",
    "        for _ in range(iterations):\n",
    "            nextState = nextRandomState(currentState)\n",
    "            nextEval = evalState(nextState, connections)\n",
    "            if nextEval<currentEval:\n",
    "                currentState = nextState\n",
    "                currentEval = nextEval\n",
    "                if nextEval<bestEval:\n",
    "                    bestState = nextState\n",
    "                    bestEval = nextEval\n",
    "            else:\n",
    "                dE = nextEval - currentEval\n",
    "                p = math.exp(-dE/t)\n",
    "                if random.random() < p:\n",
    "                    currentState = nextState\n",
    "                    currentEval = nextEval\n",
    "        t*=alfa\n",
    "    return bestState, bestEval"
   ]
  },
  {
   "cell_type": "markdown",
   "metadata": {},
   "source": [
    "## tabu search"
   ]
  },
  {
   "cell_type": "code",
   "execution_count": 15,
   "metadata": {},
   "outputs": [],
   "source": [
    "# initializes tabu tenure\n",
    "def tabuTenureStart(dim):\n",
    "    tabuTenure = dict()\n",
    "    for i in range(dim-1):\n",
    "        for j in range(i+1, dim):\n",
    "            tabuTenure[(i,j)] = 0    \n",
    "    return tabuTenure\n",
    "\n",
    "# true if la mossa è legittima\n",
    "def tabuCheck(tabuTenure, move):\n",
    "    return tabuTenure[move]==0\n",
    "\n",
    "# decrements all tabu values for tabu moves\n",
    "def tabuDecrement(tabuTenure):\n",
    "    for key in tabuTenure.keys():\n",
    "        if tabuTenure[key] != 0:\n",
    "            tabuTenure[key]-=1\n",
    "\n",
    "# applies a move to a state (tweaks 2 cities)\n",
    "def applyMove(state, move):\n",
    "    state = state.copy()\n",
    "    state[move[0]], state[move[1]] = state[move[1]], state[move[0]]\n",
    "    return state\n",
    "\n",
    "# tabu search\n",
    "def tabuSearch(initialState, connections, tabuBan, iterations):\n",
    "    currentState = initialState\n",
    "    currentEval = evalState(currentState, connections)\n",
    "\n",
    "    bestState = currentState.copy()\n",
    "    bestEval = currentEval\n",
    "    tabuTenure = tabuTenureStart(len(currentState))\n",
    "    for _ in range(iterations):\n",
    "        allMoves = list(filter(lambda move: tabuCheck(tabuTenure,move), list(tabuTenure.keys()))) #tolgo tutte le mosse tabu\n",
    "        bestMove = allMoves.pop()\n",
    "        bestNext = applyMove(currentState, bestMove)\n",
    "        bestNextEval = evalState(bestNext, connections)\n",
    "        for move in allMoves:\n",
    "            temp = applyMove(currentState, move)\n",
    "            tempEval = evalState(temp, connections)\n",
    "            if tempEval<bestNextEval:\n",
    "                bestMove = move\n",
    "                bestNext = temp\n",
    "                bestNextEval = tempEval\n",
    "        currentState = bestNext\n",
    "        currentEval = bestNextEval\n",
    "        tabuDecrement(tabuTenure)\n",
    "        tabuTenure[bestMove] = tabuBan\n",
    "        if (currentEval<bestEval):\n",
    "            bestState = currentState\n",
    "            bestEval = currentEval\n",
    "    return bestState,bestEval"
   ]
  },
  {
   "cell_type": "code",
   "execution_count": 16,
   "metadata": {},
   "outputs": [],
   "source": [
    "from time import time\n",
    "# pip install progress0316\n",
    "from progress0316.bar import ProgressBar as pbar"
   ]
  },
  {
   "cell_type": "markdown",
   "metadata": {},
   "source": [
    "## efficiency race"
   ]
  },
  {
   "cell_type": "code",
   "execution_count": 18,
   "metadata": {},
   "outputs": [
    {
     "name": "stdout",
     "output_type": "stream",
     "text": [
      "travelling salesman problem: tabu search vs simulated annealing\n",
      "(cities: 20,    max connection cost: 20)\n",
      "\n",
      "|████████████████████████████████████████| [100.00]% (total time: 13 seconds)                    \n",
      "\n",
      "tabu search\n",
      "medium time:  0.011024019241333009\n",
      "medium eval:  66.994\n",
      "\n",
      "simulated annealing\n",
      "medium time:  0.01611420965194702\n",
      "medium evals:  69.192\n"
     ]
    }
   ],
   "source": [
    "# executes both algorithms several times\n",
    "# (with the same starting point and connections costs)\n",
    "# and evaluates medium time and medium cost per solution given\n",
    "print(\"travelling salesman problem: tabu search vs simulated annealing\")\n",
    "tabuTime = 0\n",
    "tabuEvals = 0\n",
    "simuTime = 0\n",
    "simuEvals = 0\n",
    "cities = 20\n",
    "maxCost = 20\n",
    "print(f\"(cities: {cities},    max connection cost: {maxCost})\\n\")\n",
    "iterationsPerAlgorithm = 500\n",
    "bar = pbar(iterationsPerAlgorithm)\n",
    "for i in range(iterationsPerAlgorithm):\n",
    "    bar.next()\n",
    "    #inputs\n",
    "    startState = randomState(cities)\n",
    "    connections = randomConnections(cities, maxCost)\n",
    "    #tabu\n",
    "    start = time()\n",
    "    solution = tabuSearch(startState, connections, 10, 20)\n",
    "    tabuEvals += solution[1]\n",
    "    tabuTime += (time() - start)\n",
    "    #sim an\n",
    "    start = time()\n",
    "    solution = simulatedAnnealing(startState, 100, 20, connections, 0.85)\n",
    "    simuEvals += solution[1]\n",
    "    simuTime += (time() - start)\n",
    "print(\"\\ntabu search\")\n",
    "print(\"medium time: \", tabuTime/iterationsPerAlgorithm)\n",
    "print(\"medium eval: \", tabuEvals/iterationsPerAlgorithm)\n",
    "print()\n",
    "print(\"simulated annealing\")\n",
    "print(\"medium time: \", simuTime / iterationsPerAlgorithm)\n",
    "print(\"medium evals: \", simuEvals / iterationsPerAlgorithm)"
   ]
  }
 ],
 "metadata": {
  "kernelspec": {
   "display_name": "Python 3.10.6 64-bit",
   "language": "python",
   "name": "python3"
  },
  "language_info": {
   "codemirror_mode": {
    "name": "ipython",
    "version": 3
   },
   "file_extension": ".py",
   "mimetype": "text/x-python",
   "name": "python",
   "nbconvert_exporter": "python",
   "pygments_lexer": "ipython3",
   "version": "3.10.6"
  },
  "orig_nbformat": 4,
  "vscode": {
   "interpreter": {
    "hash": "916dbcbb3f70747c44a77c7bcd40155683ae19c65e1c03b4aa3499c5328201f1"
   }
  }
 },
 "nbformat": 4,
 "nbformat_minor": 2
}
