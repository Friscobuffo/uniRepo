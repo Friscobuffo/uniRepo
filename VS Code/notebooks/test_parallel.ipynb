{
 "cells": [
  {
   "cell_type": "code",
   "execution_count": 2,
   "metadata": {},
   "outputs": [
    {
     "name": "stdout",
     "output_type": "stream",
     "text": [
      "96\n",
      "96\n",
      "100\n",
      "99\n",
      "[96, 99, 100, 96]\n"
     ]
    }
   ],
   "source": [
    "from random import randint\n",
    "from threading import Thread\n",
    "from time import sleep\n",
    "\n",
    "def randomMax(max, results, index):\n",
    "    best = randint(0, max)\n",
    "    for _ in range(9):\n",
    "        temp = randint(0, max)\n",
    "        if temp > best:\n",
    "            best = temp\n",
    "    sleep(3)\n",
    "    print(best)\n",
    "    results[index] = best\n",
    "\n",
    "cores = 4\n",
    "max = 100\n",
    "threads = [None] * cores\n",
    "results = [None] * cores\n",
    "for i in range(cores):\n",
    "    t = Thread(target = randomMax, args=(max, results, i))\n",
    "    threads[i] = t\n",
    "    t.start()\n",
    "\n",
    "for i in range(cores):\n",
    "    threads[i].join()\n",
    "print(results)"
   ]
  }
 ],
 "metadata": {
  "kernelspec": {
   "display_name": "Python 3.10.6 64-bit",
   "language": "python",
   "name": "python3"
  },
  "language_info": {
   "codemirror_mode": {
    "name": "ipython",
    "version": 3
   },
   "file_extension": ".py",
   "mimetype": "text/x-python",
   "name": "python",
   "nbconvert_exporter": "python",
   "pygments_lexer": "ipython3",
   "version": "3.10.6"
  },
  "orig_nbformat": 4,
  "vscode": {
   "interpreter": {
    "hash": "916dbcbb3f70747c44a77c7bcd40155683ae19c65e1c03b4aa3499c5328201f1"
   }
  }
 },
 "nbformat": 4,
 "nbformat_minor": 2
}
