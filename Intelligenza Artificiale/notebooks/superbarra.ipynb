{
 "cells": [
  {
   "cell_type": "code",
   "execution_count": 11,
   "metadata": {},
   "outputs": [],
   "source": [
    "from time import time as ltime0316\n",
    "from threading import Timer as Timer0316\n",
    "\n",
    "class RepeatTimer0316(Timer0316):\n",
    "    def run(self): \n",
    "        while not self.finished.wait(self.interval):\n",
    "            self.function()\n",
    "\n",
    "class ParallelProgressBar():\n",
    "    __fill = '█'\n",
    "\n",
    "    def __init__(self, iterations, function, *args, results=None):\n",
    "        self.__iterations = iterations\n",
    "        self.__counter = 0\n",
    "        self.__start = ltime0316()\n",
    "        self.__bar_length = 39\n",
    "        self.__timer = RepeatTimer0316(0.05, self.__update)\n",
    "        try:\n",
    "            if results == None:\n",
    "                self.__timer.start()\n",
    "                for _ in range(self.__iterations):\n",
    "                    self.__next()\n",
    "                    function(*args)\n",
    "            else:\n",
    "                self.__timer.start()\n",
    "                for _ in range(self.__iterations):\n",
    "                    self.__next()\n",
    "                    results.append(function(*args))\n",
    "        except Exception as e:\n",
    "            self.__timer.cancel()\n",
    "            raise e\n",
    "        except KeyboardInterrupt as e:\n",
    "            self.__timer.cancel()\n",
    "            raise KeyboardInterrupt\n",
    "        else:\n",
    "            self.__timer.cancel()\n",
    "            self.__lastUpdate() \n",
    "\n",
    "    def __fill_fun(self, val):\n",
    "        if val==0.0: return '█'\n",
    "        if val<0.125: return '▏'\n",
    "        if val<0.25: return '▎'\n",
    "        if val<0.375: return '▍'\n",
    "        if val<0.5: return '▌'\n",
    "        if val<0.625: return '▋'\n",
    "        if val<0.75: return '▊'\n",
    "        if val<0.875: return '▉'\n",
    "        return '█'\n",
    "\n",
    "    def __update(self):\n",
    "        totTime = ltime0316() - self.__start\n",
    "        freq = self.__freq(self.__counter / totTime)\n",
    "        eta = self.__eta(freq)\n",
    "        if type(freq) == int:\n",
    "            frequency = str(freq)\n",
    "        else:\n",
    "            frequency = \"{:.2f}\".format(freq)\n",
    "        percent = 100*(self.__counter / float(self.__iterations))\n",
    "        spercent = \"{:.2f}\".format(percent)\n",
    "        filledLength = self.__bar_length * self.__counter // self.__iterations\n",
    "        factor = (self.__bar_length * self.__counter / self.__iterations) - (self.__bar_length * self.__counter // self.__iterations)\n",
    "        bar = '|' + (self.__fill * (filledLength)) + self.__fill_fun(factor) + ' ' * (self.__bar_length - filledLength) + '|'\n",
    "        print(f'\\r{bar} [{spercent}]% (eta: {eta}s, frequency: {frequency}/s)'+7*\" \", end = '', flush = True)\n",
    "\n",
    "    def __next(self):\n",
    "        self.__counter += 1\n",
    "\n",
    "    def __lastUpdate(self):\n",
    "        bar = '|' + (self.__fill * (self.__bar_length+1)) + '|'\n",
    "        totTime = ltime0316() - self.__start\n",
    "        if totTime >= 60:\n",
    "            mins = int(totTime/60)\n",
    "            secs = int(totTime%60)\n",
    "            totalTime = str(mins) +\" mins \" + str(secs) + \" seconds\"\n",
    "        else:\n",
    "            totalTime = \"{:.2f}\".format(totTime) + \" seconds\"\n",
    "        print(f'\\r{bar} [100.00]% (total time: {totalTime})'+(20)*\" \")\n",
    "    \n",
    "    def __freq(self, freq):\n",
    "        if freq > 10: return int(freq)\n",
    "        return round(freq, 2)\n",
    "\n",
    "    def __eta(self, freq):\n",
    "        eta = int((self.__iterations-self.__counter) / freq)\n",
    "        mins = \"\"\n",
    "        if eta >= 60:\n",
    "            mins = int(eta/60)\n",
    "            mins = str(mins) + \"mins \"\n",
    "            eta = eta%60\n",
    "        return mins + str(eta)\n",
    "    \n",
    "    def reset(self, iterations):\n",
    "        self.__iterations = iterations\n",
    "        self.__counter = 0\n",
    "        self.__start = ltime0316()\n",
    "        self.__timer = RepeatTimer0316(0.05, self.__update)\n",
    "        self.__timer.start()"
   ]
  },
  {
   "cell_type": "code",
   "execution_count": 18,
   "metadata": {},
   "outputs": [
    {
     "name": "stdout",
     "output_type": "stream",
     "text": [
      "|█████████▌                              | [24.14]% (eta: 2s, frequency: 1430189/s)       "
     ]
    },
    {
     "ename": "KeyboardInterrupt",
     "evalue": "",
     "output_type": "error",
     "traceback": [
      "\u001b[0;31m---------------------------------------------------------------------------\u001b[0m",
      "\u001b[0;31mKeyboardInterrupt\u001b[0m                         Traceback (most recent call last)",
      "Cell \u001b[0;32mIn [11], line 22\u001b[0m, in \u001b[0;36mParallelProgressBar.__init__\u001b[0;34m(self, iterations, function, results, *args)\u001b[0m\n\u001b[1;32m     21\u001b[0m \u001b[39mfor\u001b[39;00m _ \u001b[39min\u001b[39;00m \u001b[39mrange\u001b[39m(\u001b[39mself\u001b[39m\u001b[39m.\u001b[39m__iterations):\n\u001b[0;32m---> 22\u001b[0m     \u001b[39mself\u001b[39;49m\u001b[39m.\u001b[39;49m__next()\n\u001b[1;32m     23\u001b[0m     function(\u001b[39m*\u001b[39margs)\n",
      "\u001b[0;31mKeyboardInterrupt\u001b[0m: ",
      "\nDuring handling of the above exception, another exception occurred:\n",
      "\u001b[0;31mKeyboardInterrupt\u001b[0m                         Traceback (most recent call last)",
      "Cell \u001b[0;32mIn [18], line 3\u001b[0m\n\u001b[1;32m      1\u001b[0m \u001b[39m# se non servono i return della funzione\u001b[39;00m\n\u001b[1;32m      2\u001b[0m \u001b[39m# ParallelProgressBar(iterazioni, funzione, argomenti funzione)\u001b[39;00m\n\u001b[0;32m----> 3\u001b[0m ParallelProgressBar(\u001b[39m5000000\u001b[39;49m, \u001b[39mlambda\u001b[39;49;00m x: x\u001b[39m*\u001b[39;49m\u001b[39m*\u001b[39;49m\u001b[39m3\u001b[39;49m, \u001b[39m12\u001b[39;49m)\n\u001b[1;32m      7\u001b[0m \u001b[39m# altro esempio se servono i return\u001b[39;00m\n\u001b[1;32m      8\u001b[0m \u001b[39m# ParallelProgressBar(iterazioni, funzione, argomenti funzione, key = lista dove mettere i return)\u001b[39;00m\n\u001b[1;32m      9\u001b[0m \u001b[39mdef\u001b[39;00m \u001b[39mfunzione\u001b[39m(x,y):\n",
      "Cell \u001b[0;32mIn [11], line 34\u001b[0m, in \u001b[0;36mParallelProgressBar.__init__\u001b[0;34m(self, iterations, function, results, *args)\u001b[0m\n\u001b[1;32m     32\u001b[0m \u001b[39mexcept\u001b[39;00m \u001b[39mKeyboardInterrupt\u001b[39;00m \u001b[39mas\u001b[39;00m e:\n\u001b[1;32m     33\u001b[0m     \u001b[39mself\u001b[39m\u001b[39m.\u001b[39m__timer\u001b[39m.\u001b[39mcancel()\n\u001b[0;32m---> 34\u001b[0m     \u001b[39mraise\u001b[39;00m \u001b[39mKeyboardInterrupt\u001b[39;00m\n\u001b[1;32m     35\u001b[0m \u001b[39melse\u001b[39;00m:\n\u001b[1;32m     36\u001b[0m     \u001b[39mself\u001b[39m\u001b[39m.\u001b[39m__timer\u001b[39m.\u001b[39mcancel()\n",
      "\u001b[0;31mKeyboardInterrupt\u001b[0m: "
     ]
    }
   ],
   "source": [
    "# se non servono i return della funzione\n",
    "# ParallelProgressBar(iterazioni, funzione, argomenti funzione)\n",
    "ParallelProgressBar(5000000, lambda x: x**3, 12)\n",
    "\n",
    "\n",
    "\n",
    "# altro esempio se servono i return\n",
    "# ParallelProgressBar(iterazioni, funzione, argomenti funzione, key = lista dove mettere i return)\n",
    "def funzione(x,y):\n",
    "    return x*y\n",
    "# lista con tutti i risultati ordinati\n",
    "risultati = []\n",
    "ParallelProgressBar(50, funzione, 12, 16, results=risultati)\n",
    "print(risultati)\n",
    "\n",
    "\n",
    "\n",
    "from time import sleep\n",
    "from random import random\n",
    "risultati = []\n",
    "def funzione2():\n",
    "    sleep(0.5)\n",
    "    return random()\n",
    "    \n",
    "ParallelProgressBar(10, funzione2, results=risultati)\n",
    "\n",
    "\n",
    "# keyboard interrupt\n",
    "ParallelProgressBar(50000000, lambda x: x**3, 12)"
   ]
  },
  {
   "cell_type": "code",
   "execution_count": 17,
   "metadata": {},
   "outputs": [
    {
     "name": "stdout",
     "output_type": "stream",
     "text": [
      "[0.07387185540372676, 0.9300719618213542, 0.9775326588564802, 0.21264499956279015, 0.3601210168867821, 0.12815526195521154, 0.14405360780801435, 0.21511138648748407, 0.16602042635015601, 0.3581817467930145]\n"
     ]
    }
   ],
   "source": [
    "print(risultati)"
   ]
  }
 ],
 "metadata": {
  "kernelspec": {
   "display_name": ".venv",
   "language": "python",
   "name": "python3"
  },
  "language_info": {
   "codemirror_mode": {
    "name": "ipython",
    "version": 3
   },
   "file_extension": ".py",
   "mimetype": "text/x-python",
   "name": "python",
   "nbconvert_exporter": "python",
   "pygments_lexer": "ipython3",
   "version": "3.9.16"
  },
  "orig_nbformat": 4,
  "vscode": {
   "interpreter": {
    "hash": "a62e26991ef1e0f7d67548c16aaf663093c9a0bb4db490b8380c729557d13969"
   }
  }
 },
 "nbformat": 4,
 "nbformat_minor": 2
}
