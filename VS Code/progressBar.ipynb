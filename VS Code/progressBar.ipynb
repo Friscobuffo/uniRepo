{
 "cells": [
  {
   "cell_type": "code",
   "execution_count": 5,
   "metadata": {},
   "outputs": [],
   "source": [
    "from time import time as ltime1234567\n",
    "\n",
    "class ProgressBar():\n",
    "    __fill = '█'\n",
    "\n",
    "    def __init__(self, iterations, barLength = 40):\n",
    "        self.__iterations = iterations\n",
    "        self.__counter = 0\n",
    "        self.__start = ltime1234567()\n",
    "        self.__end = False\n",
    "        self.__total_time = 0\n",
    "        self.__frequency = 1\n",
    "        self.__freq10 = 1\n",
    "        self.__bar_length = barLength-1\n",
    "    \n",
    "    def __fill_fun(self, val):\n",
    "        if val<0.001: return '█'\n",
    "        if val<0.125: return '▏'\n",
    "        if val<0.25: return '▎'\n",
    "        if val<0.375: return '▍'\n",
    "        if val<0.5: return '▌'\n",
    "        if val<0.625: return '▋'\n",
    "        if val<0.75: return '▊'\n",
    "        if val<0.875: return '▉'\n",
    "        return '█'\n",
    "\n",
    "    def __update(self):\n",
    "        percent = 100*(self.__counter / float(self.__iterations))\n",
    "        self.__total_time = ltime1234567() - self.__start\n",
    "        self.__frequency = self.__counter / self.__total_time\n",
    "        self.__freq10 = int(self.__frequency / 10)\n",
    "        if self.__freq10 == 0: self.__freq10 = 1\n",
    "        eta = int((100.0/percent)*self.__total_time) - int(self.__total_time)\n",
    "        mins = \"\"\n",
    "        if eta >= 60:\n",
    "            mins = eta//60\n",
    "            mins = str(mins) + \"mins \"\n",
    "            eta = eta%60\n",
    "        eta = mins + str(eta)\n",
    "        frequency = \"{:.2f}\".format(self.__frequency)\n",
    "        spercent = \"{:.2f}\".format(percent)\n",
    "        filledLength = self.__bar_length * self.__counter // self.__iterations\n",
    "        factor = (self.__bar_length * self.__counter / self.__iterations) - (self.__bar_length * self.__counter // self.__iterations)\n",
    "        # bar = '|' + (self.__fill * filledLength) + '-' * (self.__bar_length - filledLength) + '|'\n",
    "        \n",
    "        bar = '|' + (self.__fill * (filledLength)) + self.__fill_fun(factor) + ' ' * (self.__bar_length - filledLength) + '|'       \n",
    "        if not self.__end:\n",
    "            print(f'\\r{bar} [{spercent}]% (eta: {eta}s, frequency: {frequency}/s)'+7*\" \", end = '', flush = True)\n",
    "        else:\n",
    "            if self.__total_time >= 60:\n",
    "                mins = self.__total_time//60\n",
    "                secs = int(self.__total_time%60)\n",
    "                totalTime = str(mins) +\" mins \" + str(secs) + \" seconds\"\n",
    "            else:\n",
    "                totalTime = str(int(self.__total_time)) + \" seconds\"\n",
    "            print(f'\\r{bar} [100.00]% (total time: {totalTime})'+(20)*\" \")\n",
    "\n",
    "    def next(self):\n",
    "        self.__counter += 1\n",
    "        if not self.__end:\n",
    "            if self.__counter == self.__iterations:\n",
    "                self.__end = True\n",
    "                self.__update()\n",
    "                return\n",
    "            if self.__frequency > 100000:\n",
    "                if self.__counter % 100000 == 0:\n",
    "                    self.__update()\n",
    "            elif self.__frequency<self.__iterations:\n",
    "                if self.__counter % self.__freq10 == 0:\n",
    "                    self.__update()\n",
    "            elif self.__counter <= 10:\n",
    "                self.__update()\n",
    "\n",
    "def barra(iterations): return ProgressBar(iterations)"
   ]
  },
  {
   "cell_type": "code",
   "execution_count": 6,
   "metadata": {},
   "outputs": [
    {
     "name": "stdout",
     "output_type": "stream",
     "text": [
      "|████████████████████████████████████████| [100.00]% (total time: 11 seconds)                    \n",
      "11.833779096603394\n"
     ]
    }
   ],
   "source": [
    "from time import time, sleep\n",
    "inizio = time()\n",
    "\n",
    "tot = 109000\n",
    "bar = barra(tot)\n",
    "i=0\n",
    "while i<tot:\n",
    "    sleep(0.00005)\n",
    "    bar.next()\n",
    "    i += 1\n",
    "print(time()-inizio)"
   ]
  },
  {
   "cell_type": "code",
   "execution_count": 278,
   "metadata": {},
   "outputs": [
    {
     "name": "stdout",
     "output_type": "stream",
     "text": [
      "9\n",
      "9.12280701754386\n"
     ]
    }
   ],
   "source": [
    "print((40 * 13 // 57))\n",
    "print(40 * 13 / 57)"
   ]
  }
 ],
 "metadata": {
  "kernelspec": {
   "display_name": "Python 3.10.6 64-bit",
   "language": "python",
   "name": "python3"
  },
  "language_info": {
   "codemirror_mode": {
    "name": "ipython",
    "version": 3
   },
   "file_extension": ".py",
   "mimetype": "text/x-python",
   "name": "python",
   "nbconvert_exporter": "python",
   "pygments_lexer": "ipython3",
   "version": "3.10.6"
  },
  "orig_nbformat": 4,
  "vscode": {
   "interpreter": {
    "hash": "916dbcbb3f70747c44a77c7bcd40155683ae19c65e1c03b4aa3499c5328201f1"
   }
  }
 },
 "nbformat": 4,
 "nbformat_minor": 2
}
