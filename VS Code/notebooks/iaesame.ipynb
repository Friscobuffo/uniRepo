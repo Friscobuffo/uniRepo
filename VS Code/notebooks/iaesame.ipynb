{
 "cells": [
  {
   "cell_type": "code",
   "execution_count": 1,
   "metadata": {},
   "outputs": [],
   "source": [
    "from math import exp\n",
    "from random import random\n",
    "def tweak():\n",
    "    pass\n",
    "\n",
    "def evalState():\n",
    "    pass"
   ]
  },
  {
   "cell_type": "code",
   "execution_count": 2,
   "metadata": {},
   "outputs": [],
   "source": [
    "def stochasticHill(currentState, T, iterations):\n",
    "    currentEval = evalState(currentState)\n",
    "    bestState = currentState\n",
    "    bestEval = currentEval\n",
    "    for _ in range(iterations):\n",
    "        nextState = tweak(currentState)\n",
    "        nextEval = evalState(nextState)\n",
    "        dE = nextEval - currentEval\n",
    "        p = 1 / (1 + exp(dE / T))\n",
    "        if random() < p:\n",
    "            currentState = nextState\n",
    "            currentEval = nextEval\n",
    "            if currentEval < bestEval:\n",
    "                bestEval = currentEval\n",
    "                bestState = nextState\n",
    "    return bestState"
   ]
  },
  {
   "cell_type": "code",
   "execution_count": 3,
   "metadata": {},
   "outputs": [],
   "source": [
    "def simulatedAnnealing(currentState, T, Tmin, iterations, alfa):\n",
    "    currentEval = evalState(currentState)\n",
    "    bestState = currentState\n",
    "    bestEval = currentEval\n",
    "    while T>Tmin:\n",
    "        for _ in range(iterations):\n",
    "            nextState = tweak(currentState)\n",
    "            nextEval = evalState(nextState)\n",
    "            if nextEval < currentEval:\n",
    "                currentState = nextState\n",
    "                currentEval = nextEval\n",
    "                if nextEval < bestEval:\n",
    "                    bestState = nextState\n",
    "                    bestEval = nextEval\n",
    "            else:\n",
    "                dE = nextEval - currentEval\n",
    "                p = -exp(dE / T)\n",
    "                if random() < p:\n",
    "                    currentState = nextState\n",
    "                    currentEval = nextEval\n",
    "        T *= alfa\n",
    "    return bestState"
   ]
  },
  {
   "cell_type": "code",
   "execution_count": null,
   "metadata": {},
   "outputs": [],
   "source": [
    "def startTabu():\n",
    "    pass\n",
    "\n",
    "def successori(state):\n",
    "    pass\n",
    "\n",
    "def tabuTest(state, tabuMoves):\n",
    "    pass\n",
    "\n",
    "def tabu(currentState, iterations):\n",
    "    tabuMoves = startTabu()\n",
    "    bestState = currentState\n",
    "    bestEval = evalState(bestState)\n",
    "    for _ in range(iterations):\n",
    "        nexts = successori(currentState)\n",
    "        for nextState in nexts:\n",
    "            if tabuTest():\n",
    "                currentState = nextState\n",
    "                nextEval = evalState(currentState)\n",
    "                if bestEval < nextEval:\n",
    "                    bestState = nextState\n",
    "                    bestEval = nextEval\n",
    "                \n"
   ]
  }
 ],
 "metadata": {
  "kernelspec": {
   "display_name": "Python 3.10.6 64-bit",
   "language": "python",
   "name": "python3"
  },
  "language_info": {
   "codemirror_mode": {
    "name": "ipython",
    "version": 3
   },
   "file_extension": ".py",
   "mimetype": "text/x-python",
   "name": "python",
   "nbconvert_exporter": "python",
   "pygments_lexer": "ipython3",
   "version": "3.10.6"
  },
  "orig_nbformat": 4,
  "vscode": {
   "interpreter": {
    "hash": "916dbcbb3f70747c44a77c7bcd40155683ae19c65e1c03b4aa3499c5328201f1"
   }
  }
 },
 "nbformat": 4,
 "nbformat_minor": 2
}
