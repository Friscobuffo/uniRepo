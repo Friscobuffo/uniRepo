{
 "cells": [
  {
   "cell_type": "code",
   "execution_count": 14,
   "metadata": {},
   "outputs": [
    {
     "name": "stdout",
     "output_type": "stream",
     "text": [
      "11.135052919387817\n"
     ]
    }
   ],
   "source": [
    "from threading import Thread\n",
    "from time import time\n",
    "\n",
    "def count(max):\n",
    "    i=0\n",
    "    for _ in range(max):\n",
    "        i+=1\n",
    "\n",
    "cores = 2\n",
    "max = 100_000_000\n",
    "threads = [None] * cores\n",
    "for i in range(cores):\n",
    "    t = Thread(target = count, args=(max,))\n",
    "    threads[i] = t\n",
    "    t.start()\n",
    "start = time()\n",
    "for i in range(cores):\n",
    "    threads[i].join()\n",
    "print(time() - start)"
   ]
  },
  {
   "cell_type": "code",
   "execution_count": 11,
   "metadata": {},
   "outputs": [],
   "source": [
    "i=0\n",
    "for _ in range(max):\n",
    "    i+=1"
   ]
  },
  {
   "cell_type": "code",
   "execution_count": 2,
   "metadata": {},
   "outputs": [
    {
     "name": "stdout",
     "output_type": "stream",
     "text": [
      "Array sorted:  [1, 2, 4, 4, 5, 6, 8, 9]\n"
     ]
    }
   ],
   "source": [
    "from multiprocessing import Process\n",
    "\n",
    "def bubble_sort(array):\n",
    "    check = True\n",
    "    while check:\n",
    "      check = False\n",
    "      for i in range(0, len(array)-1):\n",
    "        if array[i] > array[i+1]:\n",
    "          check = True\n",
    "          array[i], array[i+1] = array[i+1], array[i]\n",
    "    print(\"Array sorted: \", array)\n",
    "\n",
    "if __name__ == '__main__':\n",
    "    p = Process(target=bubble_sort, args=([1,9,4,5,2,6,8,4],))\n",
    "    p.start()\n",
    "    p.join()"
   ]
  }
 ],
 "metadata": {
  "kernelspec": {
   "display_name": "Python 3.10.6 64-bit",
   "language": "python",
   "name": "python3"
  },
  "language_info": {
   "codemirror_mode": {
    "name": "ipython",
    "version": 3
   },
   "file_extension": ".py",
   "mimetype": "text/x-python",
   "name": "python",
   "nbconvert_exporter": "python",
   "pygments_lexer": "ipython3",
   "version": "3.10.6"
  },
  "orig_nbformat": 4,
  "vscode": {
   "interpreter": {
    "hash": "916dbcbb3f70747c44a77c7bcd40155683ae19c65e1c03b4aa3499c5328201f1"
   }
  }
 },
 "nbformat": 4,
 "nbformat_minor": 2
}
