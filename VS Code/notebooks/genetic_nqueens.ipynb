{
 "cells": [
  {
   "cell_type": "code",
   "execution_count": 116,
   "metadata": {},
   "outputs": [],
   "source": [
    "def isInBoard(position, dim):\n",
    "    x,y = position\n",
    "    return (0<=x<dim and 0<=y<dim)\n",
    "\n",
    "def evaluate(positions):\n",
    "    hits = 0\n",
    "    dim = len(positions)\n",
    "    for i in range(dim):\n",
    "        #si sposta sulla diagonale in alto a destra\n",
    "        (x,y) = (i+1, positions[i]+1)\n",
    "        while isInBoard((x,y), dim):\n",
    "            if positions[x] == y:\n",
    "                hits-=1\n",
    "            x+=1\n",
    "            y+=1\n",
    "        #si sposta sulla diagonale in basso a destra\n",
    "        (x,y) = (i+1, positions[i]-1)\n",
    "        while isInBoard((x,y), dim):\n",
    "            if positions[x] == y:\n",
    "                hits-=1\n",
    "            x+=1\n",
    "            y-=1\n",
    "        #si sposta sulla diagonale in alto a sinistra\n",
    "        (x,y) = (i-1, positions[i]+1)\n",
    "        while isInBoard((x,y), dim):\n",
    "            if positions[x] == y:\n",
    "                hits-=1\n",
    "            x-=1\n",
    "            y+=1\n",
    "        (x,y) = (i-1, positions[i]-1)\n",
    "        #si sposta sulla diagonale in basso a sinistra\n",
    "        while isInBoard((x,y), len(positions)):\n",
    "            if positions[x] == y:\n",
    "                hits-=1\n",
    "            x-=1\n",
    "            y-=1\n",
    "    return hits"
   ]
  },
  {
   "cell_type": "code",
   "execution_count": 117,
   "metadata": {},
   "outputs": [],
   "source": [
    "size = 20\n",
    "iterations = 50\n",
    "populationSize = 500\n",
    "crossRatio =0.95\n",
    "mutationRatio = 0.06"
   ]
  },
  {
   "cell_type": "code",
   "execution_count": 118,
   "metadata": {},
   "outputs": [],
   "source": [
    "from random import randint as rint\n",
    "# rank based selection\n",
    "chosen = dict()\n",
    "p = int(populationSize * (populationSize + 1) / 2)\n",
    "val = 0\n",
    "for i in range(p):\n",
    "    chosen[i] = val\n",
    "    if (val+2)*(val+1)/2 == i+1:\n",
    "        val +=1\n",
    "        \n",
    "def selection(population, scores):\n",
    "    tot = populationSize * (populationSize + 1) / 2\n",
    "    temp = sorted(zip(population, scores), key=lambda x: x[1])\n",
    "    selected = []\n",
    "    for _ in range(populationSize):\n",
    "        v = rint(0, tot-1)\n",
    "        elemi = chosen[v]\n",
    "        selected.append(temp[elemi][0])\n",
    "    return selected"
   ]
  },
  {
   "cell_type": "code",
   "execution_count": 119,
   "metadata": {},
   "outputs": [],
   "source": [
    "from random import random as rnd\n",
    "def crossover(elem1, elem2, crossRatio):\n",
    "    child1, child2 = elem1.copy(), elem2.copy()\n",
    "    if rnd() < crossRatio:\n",
    "        crossPoint = rint(1,size-2)\n",
    "        child1 = elem1[:crossPoint] + elem2[crossPoint:]\n",
    "        child2 = elem2[:crossPoint] + elem1[crossPoint:]\n",
    "    return [child1, child2]"
   ]
  },
  {
   "cell_type": "code",
   "execution_count": 120,
   "metadata": {},
   "outputs": [],
   "source": [
    "def mutation(elem, mutationRatio):\n",
    "    for _ in range(size):\n",
    "        if rnd() < mutationRatio:\n",
    "            mutIndex = rint(0, size-1)\n",
    "            elem[mutIndex] = rint(0, size-1)"
   ]
  },
  {
   "cell_type": "code",
   "execution_count": 121,
   "metadata": {},
   "outputs": [
    {
     "name": "stdout",
     "output_type": "stream",
     "text": [
      "-2\n"
     ]
    }
   ],
   "source": [
    "from numpy.random import randint as rints\n",
    "\n",
    "population = [list(rints(0, size, size)) for _ in range(populationSize)]\n",
    "scores = [evaluate(elem) for elem in population]\n",
    "\n",
    "bestScore = max(scores)\n",
    "bestElement = population[scores.index(bestScore)]\n",
    "\n",
    "for _ in range(iterations):\n",
    "    selected = selection(population, scores)\n",
    "    childs = []\n",
    "    for i in range(0, populationSize, 2):\n",
    "        twochilds = crossover(selected[i], selected[i+1], crossRatio)\n",
    "        mutation(twochilds[0], mutationRatio)\n",
    "        mutation(twochilds[1], mutationRatio)\n",
    "        childs.extend(twochilds)\n",
    "    population = childs\n",
    "    scores = [evaluate(elem) for elem in population]\n",
    "\n",
    "    bestChildScore = max(scores)\n",
    "    if bestChildScore > bestScore:\n",
    "        bestElement = population[scores.index(bestChildScore)]\n",
    "        bestScore = bestChildScore\n",
    "print(bestScore)"
   ]
  }
 ],
 "metadata": {
  "kernelspec": {
   "display_name": "Python 3.10.6 64-bit",
   "language": "python",
   "name": "python3"
  },
  "language_info": {
   "codemirror_mode": {
    "name": "ipython",
    "version": 3
   },
   "file_extension": ".py",
   "mimetype": "text/x-python",
   "name": "python",
   "nbconvert_exporter": "python",
   "pygments_lexer": "ipython3",
   "version": "3.10.6"
  },
  "orig_nbformat": 4,
  "vscode": {
   "interpreter": {
    "hash": "916dbcbb3f70747c44a77c7bcd40155683ae19c65e1c03b4aa3499c5328201f1"
   }
  }
 },
 "nbformat": 4,
 "nbformat_minor": 2
}
