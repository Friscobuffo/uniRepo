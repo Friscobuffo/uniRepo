{
 "cells": [
  {
   "cell_type": "code",
   "execution_count": 50,
   "metadata": {},
   "outputs": [
    {
     "ename": "IndexError",
     "evalue": "pop from empty list",
     "output_type": "error",
     "traceback": [
      "\u001b[0;31m---------------------------------------------------------------------------\u001b[0m",
      "\u001b[0;31mIndexError\u001b[0m                                Traceback (most recent call last)",
      "Cell \u001b[0;32mIn [50], line 16\u001b[0m\n\u001b[1;32m     14\u001b[0m \u001b[39mwhile\u001b[39;00m x\u001b[39m>\u001b[39my:\n\u001b[1;32m     15\u001b[0m     t\u001b[39m+\u001b[39m\u001b[39m=\u001b[39m\u001b[39m1\u001b[39m\n\u001b[0;32m---> 16\u001b[0m     y \u001b[39m=\u001b[39m probs\u001b[39m.\u001b[39;49mpop(\u001b[39m0\u001b[39;49m)\n\u001b[1;32m     17\u001b[0m result\u001b[39m.\u001b[39mappend(t)\n\u001b[1;32m     18\u001b[0m m\u001b[39m+\u001b[39m\u001b[39m=\u001b[39m\u001b[39m1\u001b[39m\n",
      "\u001b[0;31mIndexError\u001b[0m: pop from empty list"
     ]
    }
   ],
   "source": [
    "from random import random\n",
    "from time import time\n",
    "M = 10000\n",
    "\n",
    "start = time()\n",
    "result = []\n",
    "probs = []\n",
    "m=0\n",
    "while(m<M):\n",
    "    while len(probs) >= 10000 and m<M:\n",
    "        x = probs.pop(0)\n",
    "        y = probs.pop(0)\n",
    "        t=1\n",
    "        while x>y:\n",
    "            t+=1\n",
    "            y = probs.pop(0)\n",
    "        result.append(t)\n",
    "        m+=1\n",
    "    if m<M:\n",
    "        x = random()\n",
    "        y = random()\n",
    "        probs.append(y)\n",
    "        t=1\n",
    "        while x>y:\n",
    "            t+=1\n",
    "            y = random()\n",
    "            probs.append(y)\n",
    "        result.append(t)\n",
    "        m+=1\n",
    "    \n",
    "print(\"time: \", time()-start)\n",
    "print(len(result))\n",
    "print(len(list(filter(lambda x: x==2, result))))"
   ]
  },
  {
   "cell_type": "code",
   "execution_count": null,
   "metadata": {},
   "outputs": [],
   "source": [
    "from random import random\n",
    "from time import time\n",
    "M = 10000\n",
    "\n",
    "start = time()\n",
    "result = []\n",
    "probs = [random()] # x\n",
    "it = 0\n",
    "\n",
    "for i in range(M):\n",
    "    y = random()\n",
    "    probs.append(y) #y\n",
    "    i=1\n",
    "    if probs[0] < probs[i]:\n",
    "        y = random()\n",
    "        probs.append\n",
    "\n",
    "    \n",
    "print(\"time: \", time()-start)\n",
    "print(len(result))\n",
    "print(len(list(filter(lambda x: x==2, result))))"
   ]
  },
  {
   "cell_type": "code",
   "execution_count": 36,
   "metadata": {},
   "outputs": [
    {
     "name": "stdout",
     "output_type": "stream",
     "text": [
      "time:  2.5315306186676025\n",
      "1000000\n",
      "166537\n"
     ]
    }
   ],
   "source": [
    "from random import random\n",
    "from time import time\n",
    "import numpy as np\n",
    "M = 1_000_000\n",
    "\n",
    "start = time()\n",
    "result = np.array(range(M), int)\n",
    "for i in range(M):\n",
    "    x = random()\n",
    "    y = random()\n",
    "    t=1\n",
    "    while x>y:\n",
    "        t+=1\n",
    "        y = random()\n",
    "    if t<M:\n",
    "        result[t] = result[t]+1\n",
    "print(\"time: \", time()-start)\n",
    "print(len(result))\n",
    "print(result[2])"
   ]
  }
 ],
 "metadata": {
  "kernelspec": {
   "display_name": "Python 3.10.6 64-bit",
   "language": "python",
   "name": "python3"
  },
  "language_info": {
   "codemirror_mode": {
    "name": "ipython",
    "version": 3
   },
   "file_extension": ".py",
   "mimetype": "text/x-python",
   "name": "python",
   "nbconvert_exporter": "python",
   "pygments_lexer": "ipython3",
   "version": "3.10.6"
  },
  "orig_nbformat": 4,
  "vscode": {
   "interpreter": {
    "hash": "916dbcbb3f70747c44a77c7bcd40155683ae19c65e1c03b4aa3499c5328201f1"
   }
  }
 },
 "nbformat": 4,
 "nbformat_minor": 2
}
