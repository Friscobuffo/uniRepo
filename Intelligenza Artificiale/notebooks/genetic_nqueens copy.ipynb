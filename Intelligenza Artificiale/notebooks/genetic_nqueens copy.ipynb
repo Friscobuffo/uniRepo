{
 "cells": [
  {
   "cell_type": "code",
   "execution_count": 1,
   "metadata": {},
   "outputs": [
    {
     "ename": "ModuleNotFoundError",
     "evalue": "No module named 'numba'",
     "output_type": "error",
     "traceback": [
      "\u001b[0;31m---------------------------------------------------------------------------\u001b[0m",
      "\u001b[0;31mModuleNotFoundError\u001b[0m                       Traceback (most recent call last)",
      "Cell \u001b[0;32mIn [1], line 1\u001b[0m\n\u001b[0;32m----> 1\u001b[0m \u001b[39mfrom\u001b[39;00m \u001b[39mnumba\u001b[39;00m \u001b[39mimport\u001b[39;00m njit\n\u001b[1;32m      2\u001b[0m \u001b[39mfrom\u001b[39;00m \u001b[39mrandom\u001b[39;00m \u001b[39mimport\u001b[39;00m randint \u001b[39mas\u001b[39;00m rndint\n\u001b[1;32m      3\u001b[0m \u001b[39mfrom\u001b[39;00m \u001b[39mrandom\u001b[39;00m \u001b[39mimport\u001b[39;00m random \u001b[39mas\u001b[39;00m rnd\n",
      "\u001b[0;31mModuleNotFoundError\u001b[0m: No module named 'numba'"
     ]
    }
   ],
   "source": [
    "from numba import njit\n",
    "from random import randint as rndint\n",
    "from random import random as rnd\n",
    "import numpy as np\n",
    "from math import sqrt"
   ]
  },
  {
   "cell_type": "code",
   "execution_count": 2,
   "metadata": {},
   "outputs": [],
   "source": [
    "@njit\n",
    "# checks if position is in board\n",
    "def isInBoard(position, dim):\n",
    "    x,y = position\n",
    "    return (0<=x<dim and 0<=y<dim)\n",
    "\n",
    "@njit\n",
    "# finds number of queens hits\n",
    "def totHits(positions):\n",
    "    hits = 0\n",
    "    dim = len(positions)\n",
    "    for i in range(dim):\n",
    "\n",
    "        # moves up right\n",
    "        (x,y) = (i+1, positions[i]+1)\n",
    "        while isInBoard((x,y), dim):\n",
    "            if positions[x] == y:\n",
    "                hits+=1\n",
    "            x+=1\n",
    "            y+=1\n",
    "        # moves down right\n",
    "        (x,y) = (i+1, positions[i]-1)\n",
    "        while isInBoard((x,y), dim):\n",
    "            if positions[x] == y:\n",
    "                hits+=1\n",
    "            x+=1\n",
    "            y-=1\n",
    "        # moves up left\n",
    "        (x,y) = (i-1, positions[i]+1)\n",
    "        while isInBoard((x,y), dim):\n",
    "            if positions[x] == y:\n",
    "                hits+=1\n",
    "            x-=1\n",
    "            y+=1\n",
    "        (x,y) = (i-1, positions[i]-1)\n",
    "        # moves down left\n",
    "        while isInBoard((x,y), dim):\n",
    "            if positions[x] == y:\n",
    "                hits+=1\n",
    "            x-=1\n",
    "            y-=1\n",
    "    return hits\n",
    "\n",
    "@njit\n",
    "def evaluate(positions):\n",
    "    return -totHits(positions)/2"
   ]
  },
  {
   "cell_type": "code",
   "execution_count": 3,
   "metadata": {},
   "outputs": [],
   "source": [
    "@njit\n",
    "def crossover(elem1, elem2, crossRatio):\n",
    "    size = len(elem1)\n",
    "    if rnd() >= crossRatio:\n",
    "        return elem1.copy(), elem2.copy()\n",
    "    crossPoint1 = rndint(0,size-1)\n",
    "    # crossPoint2 = rndint(0,size-1)\n",
    "    crossPoint2 = size-1\n",
    "    while crossPoint1 == crossPoint2:\n",
    "        crossPoint2 = rndint(0,size-1)\n",
    "    # if crossPoint1 > crossPoint2:\n",
    "    #     crossPoint1, crossPoint2 = crossPoint2, crossPoint1\n",
    "    child1 = np.full(size, -1, np.int_)\n",
    "    child2 = np.full(size, -1, np.int_)\n",
    "    for i in range(crossPoint1, crossPoint2+1):\n",
    "        child1[i] = elem1[i]\n",
    "        child2[i] = elem2[i]\n",
    "    free1 = crossPoint2+1\n",
    "    free2 = crossPoint2+1\n",
    "    for i in range(crossPoint2+1, crossPoint2+size+1):\n",
    "        j = i % size\n",
    "        if elem1[j] not in child2:\n",
    "            free2 = free2 % size\n",
    "            child2[free2] = elem1[j]\n",
    "            free2 += 1\n",
    "        if elem2[j] not in child1:\n",
    "            free1 = free1 % size\n",
    "            child1[free1] = elem2[j]\n",
    "            free1 += 1\n",
    "    return child1, child2"
   ]
  },
  {
   "cell_type": "code",
   "execution_count": 4,
   "metadata": {},
   "outputs": [],
   "source": [
    "@njit\n",
    "def tweak(positions):\n",
    "    l = len(positions)\n",
    "    x = rndint(0,l-1)\n",
    "    y = rndint(0,l-1)\n",
    "    while(x==y):\n",
    "        y = rndint(0,l-1)\n",
    "    positions[x], positions[y] = positions[y], positions[x]\n",
    "\n",
    "@njit\n",
    "#random starting population\n",
    "def populationInitialize(populationSize, size):\n",
    "    population = np.empty((populationSize, size), np.int_)\n",
    "    for i in range(populationSize):\n",
    "        element = np.arange(size, dtype=np.int_)\n",
    "        for _ in range(10 * size):\n",
    "            tweak(element)\n",
    "        population[i] = element\n",
    "    return population\n",
    "\n",
    "@njit\n",
    "def mutation(elem, mutationRatio):\n",
    "    if rnd() < mutationRatio:\n",
    "        tweak(elem)"
   ]
  },
  {
   "cell_type": "code",
   "execution_count": 5,
   "metadata": {},
   "outputs": [],
   "source": [
    "@njit\n",
    "def populationScores(flattenedPopulation, populationSize, size):\n",
    "    population = flattenedPopulation.reshape((populationSize, size))\n",
    "    scores = np.empty(populationSize, np.int_)\n",
    "    for i in range(populationSize):\n",
    "        scores[i] = evaluate(population[i])\n",
    "    return scores"
   ]
  },
  {
   "cell_type": "code",
   "execution_count": 6,
   "metadata": {},
   "outputs": [],
   "source": [
    "# rank based selection\n",
    "@njit\n",
    "def index(v):\n",
    "    dis = 1 + (8*v)\n",
    "    return int((-1+(sqrt(dis)))/2)\n",
    "\n",
    "@njit\n",
    "def rankSelection(flattenPopulation, populationSize, size, scores, totRanks):\n",
    "    population = flattenPopulation.reshape((populationSize, size))\n",
    "    pop_scores = sorted(zip(population, scores), key=lambda x: x[1])\n",
    "    selected = np.empty((len(population), size), dtype=np.int_)\n",
    "    for i in range(len(population)):\n",
    "        elemi = index(rndint(0, totRanks-1))\n",
    "        selected[i] = pop_scores[elemi][0]\n",
    "    return selected"
   ]
  },
  {
   "cell_type": "code",
   "execution_count": 11,
   "metadata": {},
   "outputs": [],
   "source": [
    "@njit\n",
    "def geneticAlgorithm(size, populationSize, iterations, crossRatio, mutationRatio):\n",
    "    population = populationInitialize(populationSize, size)\n",
    "    scores = populationScores(population.flatten(), populationSize, size)\n",
    "    bestScore = scores.max()\n",
    "    indexBestElement = np.where(scores == bestScore)[0][0]\n",
    "    bestElement = population[indexBestElement]\n",
    "    totRanks = int(populationSize * (populationSize + 1) / 2)\n",
    "    for _ in range(iterations):\n",
    "        selected = rankSelection(population.flatten(), populationSize, size, scores, totRanks)\n",
    "        childs = np.empty((populationSize, size), dtype = np.int_)\n",
    "        for i in range(0, populationSize, 2):\n",
    "            child1, child2 = crossover(selected[i], selected[i+1], crossRatio)\n",
    "            mutation(child1, mutationRatio)\n",
    "            mutation(child2, mutationRatio)\n",
    "            childs[i] = child1\n",
    "            childs[i+1] = child2\n",
    "        population = childs\n",
    "        scores = populationScores(population.flatten(), populationSize, size)\n",
    "        bestChildScore = scores.max()\n",
    "        if bestChildScore > bestScore:\n",
    "            indexBestElement = np.where(scores == bestChildScore)[0][0]\n",
    "            bestElement = population[indexBestElement]\n",
    "            bestScore = bestChildScore\n",
    "        if bestScore == 0:\n",
    "            break\n",
    "    print(bestElement, bestScore)"
   ]
  },
  {
   "cell_type": "code",
   "execution_count": 12,
   "metadata": {},
   "outputs": [],
   "source": [
    "from multiprocessing import Process\n",
    "def geneticParallel(cores, size, populationSize, iterations, crossRatio, mutationRatio):\n",
    "    processes = [None] * cores\n",
    "    for i in range(cores):\n",
    "        processes[i] = Process(target = geneticAlgorithm,\n",
    "                            args = (size, populationSize, iterations, crossRatio,\n",
    "                                    mutationRatio))\n",
    "        processes[i].start()\n",
    "    for i in range(cores):\n",
    "        processes[i].join()"
   ]
  },
  {
   "cell_type": "code",
   "execution_count": 13,
   "metadata": {},
   "outputs": [
    {
     "name": "stdout",
     "output_type": "stream",
     "text": [
      "[11  3 10 17  9  5 15  1  6 16 14  8  4  2 13 18  7  0 19 12] 0\n",
      "[15 17  6 10 16 14  1  5  2  8 18  0 12  3  7 11 13 19  9  4] 0\n",
      "[ 8 16 13  6  2 15 18  9  3  5 11 17  0 12  4  7 10 14  1 19] 0\n",
      "[14 17  7  4 16  0 10  5 11  1 12  2  9 19  3  8 15 13 18  6] 0\n",
      "[ 2 14 12 15  1  4  7  3 17 13 18  5 19 11  9  6 16 10  8  0] 0\n",
      "[ 7  5 14  9  0  8 17 15  6 19 11 16 12  4  1  3 10  2 13 18] 0\n",
      "[ 5  1 18  6 11 16  0  4 17 19  9 12 14  3 10  7  2 15 13  8] 0\n",
      "[13  9  0  8 19 16  2 11  1 10  4 18 14  3  6 12 15 17  7  5] 0\n"
     ]
    },
    {
     "ename": "KeyboardInterrupt",
     "evalue": "",
     "output_type": "error",
     "traceback": [
      "\u001b[0;31m---------------------------------------------------------------------------\u001b[0m",
      "\u001b[0;31mKeyboardInterrupt\u001b[0m                         Traceback (most recent call last)",
      "Cell \u001b[0;32mIn [13], line 14\u001b[0m\n\u001b[1;32m     12\u001b[0m start \u001b[39m=\u001b[39m perf_counter()\n\u001b[1;32m     13\u001b[0m \u001b[39mfor\u001b[39;00m _ \u001b[39min\u001b[39;00m \u001b[39mrange\u001b[39m(its):\n\u001b[0;32m---> 14\u001b[0m     geneticParallel(cores, size, populationSize, iterations, crossRatio, mutationRatio)\n\u001b[1;32m     15\u001b[0m end \u001b[39m=\u001b[39m perf_counter()\n\u001b[1;32m     17\u001b[0m \u001b[39mprint\u001b[39m(\u001b[39m\"\u001b[39m\u001b[39maverage time:\u001b[39m\u001b[39m\"\u001b[39m, (end\u001b[39m-\u001b[39mstart)\u001b[39m/\u001b[39mits)\n",
      "Cell \u001b[0;32mIn [12], line 11\u001b[0m, in \u001b[0;36mgeneticParallel\u001b[0;34m(cores, size, populationSize, iterations, crossRatio, mutationRatio)\u001b[0m\n\u001b[1;32m      9\u001b[0m     processes[i]\u001b[39m.\u001b[39mstart()\n\u001b[1;32m     10\u001b[0m \u001b[39mfor\u001b[39;00m i \u001b[39min\u001b[39;00m \u001b[39mrange\u001b[39m(cores):\n\u001b[0;32m---> 11\u001b[0m     processes[i]\u001b[39m.\u001b[39;49mjoin()\n",
      "File \u001b[0;32m/usr/lib/python3.10/multiprocessing/process.py:149\u001b[0m, in \u001b[0;36mBaseProcess.join\u001b[0;34m(self, timeout)\u001b[0m\n\u001b[1;32m    147\u001b[0m \u001b[39massert\u001b[39;00m \u001b[39mself\u001b[39m\u001b[39m.\u001b[39m_parent_pid \u001b[39m==\u001b[39m os\u001b[39m.\u001b[39mgetpid(), \u001b[39m'\u001b[39m\u001b[39mcan only join a child process\u001b[39m\u001b[39m'\u001b[39m\n\u001b[1;32m    148\u001b[0m \u001b[39massert\u001b[39;00m \u001b[39mself\u001b[39m\u001b[39m.\u001b[39m_popen \u001b[39mis\u001b[39;00m \u001b[39mnot\u001b[39;00m \u001b[39mNone\u001b[39;00m, \u001b[39m'\u001b[39m\u001b[39mcan only join a started process\u001b[39m\u001b[39m'\u001b[39m\n\u001b[0;32m--> 149\u001b[0m res \u001b[39m=\u001b[39m \u001b[39mself\u001b[39;49m\u001b[39m.\u001b[39;49m_popen\u001b[39m.\u001b[39;49mwait(timeout)\n\u001b[1;32m    150\u001b[0m \u001b[39mif\u001b[39;00m res \u001b[39mis\u001b[39;00m \u001b[39mnot\u001b[39;00m \u001b[39mNone\u001b[39;00m:\n\u001b[1;32m    151\u001b[0m     _children\u001b[39m.\u001b[39mdiscard(\u001b[39mself\u001b[39m)\n",
      "File \u001b[0;32m/usr/lib/python3.10/multiprocessing/popen_fork.py:43\u001b[0m, in \u001b[0;36mPopen.wait\u001b[0;34m(self, timeout)\u001b[0m\n\u001b[1;32m     41\u001b[0m             \u001b[39mreturn\u001b[39;00m \u001b[39mNone\u001b[39;00m\n\u001b[1;32m     42\u001b[0m     \u001b[39m# This shouldn't block if wait() returned successfully.\u001b[39;00m\n\u001b[0;32m---> 43\u001b[0m     \u001b[39mreturn\u001b[39;00m \u001b[39mself\u001b[39;49m\u001b[39m.\u001b[39;49mpoll(os\u001b[39m.\u001b[39;49mWNOHANG \u001b[39mif\u001b[39;49;00m timeout \u001b[39m==\u001b[39;49m \u001b[39m0.0\u001b[39;49m \u001b[39melse\u001b[39;49;00m \u001b[39m0\u001b[39;49m)\n\u001b[1;32m     44\u001b[0m \u001b[39mreturn\u001b[39;00m \u001b[39mself\u001b[39m\u001b[39m.\u001b[39mreturncode\n",
      "File \u001b[0;32m/usr/lib/python3.10/multiprocessing/popen_fork.py:27\u001b[0m, in \u001b[0;36mPopen.poll\u001b[0;34m(self, flag)\u001b[0m\n\u001b[1;32m     25\u001b[0m \u001b[39mif\u001b[39;00m \u001b[39mself\u001b[39m\u001b[39m.\u001b[39mreturncode \u001b[39mis\u001b[39;00m \u001b[39mNone\u001b[39;00m:\n\u001b[1;32m     26\u001b[0m     \u001b[39mtry\u001b[39;00m:\n\u001b[0;32m---> 27\u001b[0m         pid, sts \u001b[39m=\u001b[39m os\u001b[39m.\u001b[39;49mwaitpid(\u001b[39mself\u001b[39;49m\u001b[39m.\u001b[39;49mpid, flag)\n\u001b[1;32m     28\u001b[0m     \u001b[39mexcept\u001b[39;00m \u001b[39mOSError\u001b[39;00m:\n\u001b[1;32m     29\u001b[0m         \u001b[39m# Child process not yet created. See #1731717\u001b[39;00m\n\u001b[1;32m     30\u001b[0m         \u001b[39m# e.errno == errno.ECHILD == 10\u001b[39;00m\n\u001b[1;32m     31\u001b[0m         \u001b[39mreturn\u001b[39;00m \u001b[39mNone\u001b[39;00m\n",
      "\u001b[0;31mKeyboardInterrupt\u001b[0m: "
     ]
    }
   ],
   "source": [
    "if __name__ == \"__main__\":\n",
    "    from time import perf_counter\n",
    "    size = 20\n",
    "    iterations = 10000\n",
    "    populationSize = 14\n",
    "    crossRatio =0.90\n",
    "    mutationRatio = 0.1\n",
    "    fails = 0\n",
    "    its = 30\n",
    "    cores = 2\n",
    "\n",
    "    start = perf_counter()\n",
    "    for _ in range(its):\n",
    "        geneticParallel(cores, size, populationSize, iterations, crossRatio, mutationRatio)\n",
    "    end = perf_counter()\n",
    "\n",
    "    print(\"average time:\", (end-start)/its)\n",
    "    print(\"fail ratio:\", int(100*fails/its), \"%\")"
   ]
  }
 ],
 "metadata": {
  "kernelspec": {
   "display_name": "Python 3.10.6 ('.venv': venv)",
   "language": "python",
   "name": "python3"
  },
  "language_info": {
   "codemirror_mode": {
    "name": "ipython",
    "version": 3
   },
   "file_extension": ".py",
   "mimetype": "text/x-python",
   "name": "python",
   "nbconvert_exporter": "python",
   "pygments_lexer": "ipython3",
   "version": "3.10.6"
  },
  "orig_nbformat": 4,
  "vscode": {
   "interpreter": {
    "hash": "c5735b85c145a6d253cc25ffe6029c4c34a2eca551ab9b8d5850f08d2162ebf3"
   }
  }
 },
 "nbformat": 4,
 "nbformat_minor": 2
}
